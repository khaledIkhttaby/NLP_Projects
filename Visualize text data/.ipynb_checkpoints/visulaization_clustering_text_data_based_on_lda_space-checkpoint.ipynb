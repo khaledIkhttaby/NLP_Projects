{
 "cells": [
  {
   "cell_type": "markdown",
   "metadata": {},
   "source": [
    "# Read Data"
   ]
  },
  {
   "cell_type": "code",
   "execution_count": 2,
   "metadata": {},
   "outputs": [],
   "source": [
    "import pandas as pd"
   ]
  },
  {
   "cell_type": "code",
   "execution_count": 3,
   "metadata": {},
   "outputs": [],
   "source": [
    "sentences = pd.read_csv('data_lda.csv',sep=\"&\",names=[\"data\"])"
   ]
  },
  {
   "cell_type": "code",
   "execution_count": 4,
   "metadata": {},
   "outputs": [
    {
     "data": {
      "text/html": [
       "<div>\n",
       "<style scoped>\n",
       "    .dataframe tbody tr th:only-of-type {\n",
       "        vertical-align: middle;\n",
       "    }\n",
       "\n",
       "    .dataframe tbody tr th {\n",
       "        vertical-align: top;\n",
       "    }\n",
       "\n",
       "    .dataframe thead th {\n",
       "        text-align: right;\n",
       "    }\n",
       "</style>\n",
       "<table border=\"1\" class=\"dataframe\">\n",
       "  <thead>\n",
       "    <tr style=\"text-align: right;\">\n",
       "      <th></th>\n",
       "      <th>data</th>\n",
       "    </tr>\n",
       "  </thead>\n",
       "  <tbody>\n",
       "    <tr>\n",
       "      <th>0</th>\n",
       "      <td>#السورية للمخابز تتحدّث عن #آلية جديدة لبيع #ا...</td>\n",
       "    </tr>\n",
       "    <tr>\n",
       "      <th>1</th>\n",
       "      <td>#النقل خلال الاجتماع السنوي #لغرفة الملاحة الب...</td>\n",
       "    </tr>\n",
       "    <tr>\n",
       "      <th>2</th>\n",
       "      <td>#فرّح أهلك : خدمة في #مصر تساعد السوريين على ت...</td>\n",
       "    </tr>\n",
       "    <tr>\n",
       "      <th>3</th>\n",
       "      <td>#قسد تطالب بتعاون دولي لمحاكمة أسرى داعـش :</td>\n",
       "    </tr>\n",
       "    <tr>\n",
       "      <th>4</th>\n",
       "      <td>#نيويورك تايمز نقلا عن مسؤول #أمريكي: إسرائيل ...</td>\n",
       "    </tr>\n",
       "    <tr>\n",
       "      <th>5</th>\n",
       "      <td>#       #       #     #                  ...</td>\n",
       "    </tr>\n",
       "    <tr>\n",
       "      <th>6</th>\n",
       "      <td>أريد العودة و إصلاح أخطائي إيميلي كونيغ متطرفة...</td>\n",
       "    </tr>\n",
       "    <tr>\n",
       "      <th>7</th>\n",
       "      <td>أساءت للأردن ! تفاصيل جديدة متعلقة بالمعتقلة ا...</td>\n",
       "    </tr>\n",
       "    <tr>\n",
       "      <th>8</th>\n",
       "      <td>ألعاب زمان الأتاري مين كان شاطر فيه 😁 #وفا</td>\n",
       "    </tr>\n",
       "    <tr>\n",
       "      <th>9</th>\n",
       "      <td>ألغت الكثير من شركات النقل رحلاتها في مختلف مر...</td>\n",
       "    </tr>\n",
       "    <tr>\n",
       "      <th>10</th>\n",
       "      <td>ألف ألف مبرووووك للبطل حيدر حاتم ابن مدينة سلح...</td>\n",
       "    </tr>\n",
       "    <tr>\n",
       "      <th>11</th>\n",
       "      <td>ألف ألف مبروووووك حاملة النفط المتوجهة الى سور...</td>\n",
       "    </tr>\n",
       "    <tr>\n",
       "      <th>12</th>\n",
       "      <td>ألف الحمد الله عسلامتكم🙏✌❤</td>\n",
       "    </tr>\n",
       "    <tr>\n",
       "      <th>13</th>\n",
       "      <td>ألف الحمد الله على سلامتكم</td>\n",
       "    </tr>\n",
       "    <tr>\n",
       "      <th>14</th>\n",
       "      <td>ألف الحمد لله على السلامة الرئيس #بشار الأسد و...</td>\n",
       "    </tr>\n",
       "    <tr>\n",
       "      <th>15</th>\n",
       "      <td>ألف الحمدالله عسلامتكن يا املنا لوحيد من بعد ا...</td>\n",
       "    </tr>\n",
       "    <tr>\n",
       "      <th>16</th>\n",
       "      <td>ألف الحمدلله ياااااااااااارب</td>\n",
       "    </tr>\n",
       "    <tr>\n",
       "      <th>17</th>\n",
       "      <td>ألف حمد و شكر لله سبحانه و تعالى الذي شفى سيد ...</td>\n",
       "    </tr>\n",
       "    <tr>\n",
       "      <th>18</th>\n",
       "      <td>ألف رحمة ونور على روحك #المقاوم أنيس النقاش</td>\n",
       "    </tr>\n",
       "    <tr>\n",
       "      <th>19</th>\n",
       "      <td>ألف رحمة ونور على روحك شارة برنامج من الآخر #م...</td>\n",
       "    </tr>\n",
       "    <tr>\n",
       "      <th>20</th>\n",
       "      <td>ألف سلامة لأجمل ثنائي حماهما الله وحمى الجميع</td>\n",
       "    </tr>\n",
       "    <tr>\n",
       "      <th>21</th>\n",
       "      <td>ألف مباركة وألف تهنئة لفوزكم أعضاء مجلس إدارة ...</td>\n",
       "    </tr>\n",
       "    <tr>\n",
       "      <th>22</th>\n",
       "      <td>ألف مبروك الفوز لفريق رجال #المحافظة على رجال ...</td>\n",
       "    </tr>\n",
       "    <tr>\n",
       "      <th>23</th>\n",
       "      <td>ألف مبروك النجاح دورة مهندس ثاني سكند انجنير أ...</td>\n",
       "    </tr>\n",
       "    <tr>\n",
       "      <th>24</th>\n",
       "      <td>ألف مبروك لابن السويدء قرية #مصاد #حيان كمال ا...</td>\n",
       "    </tr>\n",
       "    <tr>\n",
       "      <th>25</th>\n",
       "      <td>ألف مبروك لابن مدينة #جبلة بطل العرب الملاكم م...</td>\n",
       "    </tr>\n",
       "    <tr>\n",
       "      <th>26</th>\n",
       "      <td>ألف مبروك لبطلة العالم لاعبة منتخب سوريا للرما...</td>\n",
       "    </tr>\n",
       "    <tr>\n",
       "      <th>27</th>\n",
       "      <td>ألف مبروك لرابحي أولى مسابقات شهر المرأة بتاري...</td>\n",
       "    </tr>\n",
       "    <tr>\n",
       "      <th>28</th>\n",
       "      <td>ألف مبروك لرابحي ثاني مسابقات شهر المرأة بتاري...</td>\n",
       "    </tr>\n",
       "    <tr>\n",
       "      <th>29</th>\n",
       "      <td>ألف مبروك لسورية خاصة ولشرفاء العالم ولمحور ال...</td>\n",
       "    </tr>\n",
       "  </tbody>\n",
       "</table>\n",
       "</div>"
      ],
      "text/plain": [
       "                                                 data\n",
       "0   #السورية للمخابز تتحدّث عن #آلية جديدة لبيع #ا...\n",
       "1   #النقل خلال الاجتماع السنوي #لغرفة الملاحة الب...\n",
       "2   #فرّح أهلك : خدمة في #مصر تساعد السوريين على ت...\n",
       "3    #قسد تطالب بتعاون دولي لمحاكمة أسرى داعـش :     \n",
       "4   #نيويورك تايمز نقلا عن مسؤول #أمريكي: إسرائيل ...\n",
       "5        #       #       #     #                  ...\n",
       "6   أريد العودة و إصلاح أخطائي إيميلي كونيغ متطرفة...\n",
       "7   أساءت للأردن ! تفاصيل جديدة متعلقة بالمعتقلة ا...\n",
       "8          ألعاب زمان الأتاري مين كان شاطر فيه 😁 #وفا\n",
       "9   ألغت الكثير من شركات النقل رحلاتها في مختلف مر...\n",
       "10  ألف ألف مبرووووك للبطل حيدر حاتم ابن مدينة سلح...\n",
       "11  ألف ألف مبروووووك حاملة النفط المتوجهة الى سور...\n",
       "12                         ألف الحمد الله عسلامتكم🙏✌❤\n",
       "13                         ألف الحمد الله على سلامتكم\n",
       "14  ألف الحمد لله على السلامة الرئيس #بشار الأسد و...\n",
       "15  ألف الحمدالله عسلامتكن يا املنا لوحيد من بعد ا...\n",
       "16                       ألف الحمدلله ياااااااااااارب\n",
       "17  ألف حمد و شكر لله سبحانه و تعالى الذي شفى سيد ...\n",
       "18        ألف رحمة ونور على روحك #المقاوم أنيس النقاش\n",
       "19  ألف رحمة ونور على روحك شارة برنامج من الآخر #م...\n",
       "20      ألف سلامة لأجمل ثنائي حماهما الله وحمى الجميع\n",
       "21  ألف مباركة وألف تهنئة لفوزكم أعضاء مجلس إدارة ...\n",
       "22  ألف مبروك الفوز لفريق رجال #المحافظة على رجال ...\n",
       "23  ألف مبروك النجاح دورة مهندس ثاني سكند انجنير أ...\n",
       "24  ألف مبروك لابن السويدء قرية #مصاد #حيان كمال ا...\n",
       "25  ألف مبروك لابن مدينة #جبلة بطل العرب الملاكم م...\n",
       "26  ألف مبروك لبطلة العالم لاعبة منتخب سوريا للرما...\n",
       "27  ألف مبروك لرابحي أولى مسابقات شهر المرأة بتاري...\n",
       "28  ألف مبروك لرابحي ثاني مسابقات شهر المرأة بتاري...\n",
       "29  ألف مبروك لسورية خاصة ولشرفاء العالم ولمحور ال..."
      ]
     },
     "execution_count": 4,
     "metadata": {},
     "output_type": "execute_result"
    }
   ],
   "source": [
    "sentences.head(30)"
   ]
  },
  {
   "cell_type": "code",
   "execution_count": null,
   "metadata": {},
   "outputs": [],
   "source": []
  },
  {
   "cell_type": "code",
   "execution_count": null,
   "metadata": {},
   "outputs": [],
   "source": [
    "from sklearn.feature_extraction.text import CountVectorizer\n",
    "cv = CountVectorizer(max_df=0.1, min_df=5)\n",
    "dtm = cv.fit_transform(npr['Article'])"
   ]
  },
  {
   "cell_type": "code",
   "execution_count": null,
   "metadata": {},
   "outputs": [],
   "source": [
    "len(cv.get_feature_names())"
   ]
  },
  {
   "cell_type": "code",
   "execution_count": null,
   "metadata": {},
   "outputs": [],
   "source": [
    "import random\n",
    "for i in range(10):\n",
    "    random_word_id = random.randint(0,14556)\n",
    "    print(cv.get_feature_names()[random_word_id])"
   ]
  },
  {
   "cell_type": "code",
   "execution_count": null,
   "metadata": {},
   "outputs": [],
   "source": [
    "from sklearn.decomposition import LatentDirichletAllocation\n",
    "LDA = LatentDirichletAllocation(n_components=10,random_state=42)\n",
    "LDA.fit(dtm)"
   ]
  },
  {
   "cell_type": "code",
   "execution_count": null,
   "metadata": {},
   "outputs": [],
   "source": [
    "len(LDA.components_)"
   ]
  },
  {
   "cell_type": "code",
   "execution_count": null,
   "metadata": {},
   "outputs": [],
   "source": [
    "LDA.components_"
   ]
  },
  {
   "cell_type": "code",
   "execution_count": null,
   "metadata": {},
   "outputs": [],
   "source": [
    "result=LDA.transform(dtm)"
   ]
  },
  {
   "cell_type": "code",
   "execution_count": null,
   "metadata": {},
   "outputs": [],
   "source": [
    "from sklearn.manifold import TSNE\n",
    "import numpy as np\n",
    "\n",
    "result_tsne=TSNE().fit_transform(result)"
   ]
  },
  {
   "cell_type": "code",
   "execution_count": null,
   "metadata": {},
   "outputs": [],
   "source": [
    "from sklearn.cluster import MiniBatchKMeans"
   ]
  },
  {
   "cell_type": "code",
   "execution_count": null,
   "metadata": {},
   "outputs": [],
   "source": [
    "tsne_df = pd.DataFrame(result_tsne, columns=['x', 'y'])"
   ]
  },
  {
   "cell_type": "code",
   "execution_count": null,
   "metadata": {},
   "outputs": [],
   "source": [
    "from sklearn.cluster import SpectralClustering\n",
    "cl = SpectralClustering(n_clusters=10, affinity='nearest_neighbors',n_neighbors=5).fit_predict(result)"
   ]
  },
  {
   "cell_type": "code",
   "execution_count": null,
   "metadata": {},
   "outputs": [],
   "source": [
    "result\n"
   ]
  },
  {
   "cell_type": "code",
   "execution_count": null,
   "metadata": {},
   "outputs": [],
   "source": [
    "cls = MiniBatchKMeans(n_clusters=10, random_state=1000)\n",
    "cl=cls.fit_predict(result)"
   ]
  },
  {
   "cell_type": "code",
   "execution_count": null,
   "metadata": {},
   "outputs": [],
   "source": [
    "from sklearn.decomposition import PCA"
   ]
  },
  {
   "cell_type": "code",
   "execution_count": null,
   "metadata": {},
   "outputs": [],
   "source": [
    "tsne_df['cluster']=cl"
   ]
  },
  {
   "cell_type": "code",
   "execution_count": null,
   "metadata": {},
   "outputs": [],
   "source": [
    "d=dict(tsne_df['cluster'].value_counts())"
   ]
  },
  {
   "cell_type": "code",
   "execution_count": null,
   "metadata": {},
   "outputs": [],
   "source": [
    "def a(cluster):\n",
    "    return str(d[cluster])"
   ]
  },
  {
   "cell_type": "code",
   "execution_count": null,
   "metadata": {},
   "outputs": [],
   "source": [
    "tsne_df['number_cluster']=tsne_df['cluster'].apply(a)"
   ]
  },
  {
   "cell_type": "code",
   "execution_count": null,
   "metadata": {},
   "outputs": [],
   "source": [
    "import seaborn as sns "
   ]
  },
  {
   "cell_type": "code",
   "execution_count": null,
   "metadata": {},
   "outputs": [],
   "source": [
    "sns.countplot(x='cluster',data=tsne_df)"
   ]
  },
  {
   "cell_type": "code",
   "execution_count": null,
   "metadata": {},
   "outputs": [],
   "source": [
    "tsne_df['cluster']=tsne_df['cluster'].apply(str)"
   ]
  },
  {
   "cell_type": "code",
   "execution_count": null,
   "metadata": {},
   "outputs": [],
   "source": [
    "tsne_df['cluster'].value_counts()"
   ]
  },
  {
   "cell_type": "code",
   "execution_count": null,
   "metadata": {},
   "outputs": [],
   "source": [
    "topic_results = LDA.transform(dtm)"
   ]
  },
  {
   "cell_type": "code",
   "execution_count": null,
   "metadata": {},
   "outputs": [],
   "source": [
    "npr['Topic'] = topic_results.argmax(axis=1)"
   ]
  },
  {
   "cell_type": "code",
   "execution_count": null,
   "metadata": {},
   "outputs": [],
   "source": [
    "tsne_df['words']=npr['Article']\n",
    "tsne_df['Topic']=npr['Topic']"
   ]
  },
  {
   "cell_type": "code",
   "execution_count": null,
   "metadata": {},
   "outputs": [],
   "source": [
    "tsne_df['Topic']=tsne_df['Topic'].apply(str)"
   ]
  },
  {
   "cell_type": "code",
   "execution_count": null,
   "metadata": {},
   "outputs": [],
   "source": [
    "import bokeh.plotting as bp\n",
    "from  bokeh.palettes import d3\n",
    "from bokeh.models import mappers as bmo\n",
    "from bokeh.plotting import figure, show, output_notebook\n",
    "from bokeh.models import HoverTool, BoxSelectTool\n",
    "\n",
    "output_notebook()\n",
    "plot_tfidf = bp.figure(plot_width=1000, plot_height=1000, title=\"A map of word vectors\",\n",
    "    tools=\"pan,wheel_zoom,box_zoom,reset,hover\",\n",
    "    x_axis_type=None, y_axis_type=None, min_border=1)"
   ]
  },
  {
   "cell_type": "code",
   "execution_count": null,
   "metadata": {},
   "outputs": [],
   "source": [
    "palette = d3['Category10'][len(tsne_df['Topic'].unique())]\n",
    "color_map = bmo.CategoricalColorMapper(factors=tsne_df['Topic'].unique(),\n",
    "                                   palette=palette)\n",
    "plot_tfidf.scatter(x='x', y='y', source=tsne_df,color={'field': 'Topic','transform': color_map},size=15)\n",
    "hover = plot_tfidf.select(dict(type=HoverTool))\n",
    "hover.tooltips={\"count\": \"@number_cluster\",\"post\":\"@words\",\"cluster\":\"@cluster\",\"Topic\":\"@Topic\"}\n",
    "show(plot_tfidf)"
   ]
  },
  {
   "cell_type": "code",
   "execution_count": null,
   "metadata": {},
   "outputs": [],
   "source": [
    "import bokeh.plotting as bp\n",
    "from  bokeh.palettes import d3\n",
    "from bokeh.models import mappers as bmo\n",
    "from bokeh.plotting import figure, show, output_notebook\n",
    "from bokeh.models import HoverTool, BoxSelectTool\n",
    "\n",
    "output_notebook()\n",
    "plot_tfidf = bp.figure(plot_width=1000, plot_height=1000, title=\"A map of word vectors\",\n",
    "    tools=\"pan,wheel_zoom,box_zoom,reset,hover\",\n",
    "    x_axis_type=None, y_axis_type=None, min_border=1)\n",
    "palette = d3['Category10'][len(tsne_df['cluster'].unique())]\n",
    "color_map = bmo.CategoricalColorMapper(factors=tsne_df['cluster'].unique(),\n",
    "                                   palette=palette)\n",
    "plot_tfidf.scatter(x='x', y='y', source=tsne_df,color={'field': 'cluster','transform': color_map},size=10)\n",
    "hover = plot_tfidf.select(dict(type=HoverTool))\n",
    "hover.tooltips={\"count\": \"@number_cluster\",\"post\":\"@words\",\"cluster\":\"@cluster\",\"Topic\":\"@Topic\"}\n",
    "show(plot_tfidf)"
   ]
  },
  {
   "cell_type": "code",
   "execution_count": null,
   "metadata": {},
   "outputs": [],
   "source": [
    "npr.cluster.value_counts()"
   ]
  },
  {
   "cell_type": "code",
   "execution_count": null,
   "metadata": {},
   "outputs": [],
   "source": [
    "len(LDA.components_) , len(LDA.components_[0])"
   ]
  },
  {
   "cell_type": "code",
   "execution_count": null,
   "metadata": {},
   "outputs": [],
   "source": [
    "single_topic = LDA.components_[2]\n",
    "single_topic.argsort()"
   ]
  },
  {
   "cell_type": "code",
   "execution_count": null,
   "metadata": {},
   "outputs": [],
   "source": [
    "single_topic.argsort()[-10:]"
   ]
  },
  {
   "cell_type": "code",
   "execution_count": null,
   "metadata": {},
   "outputs": [],
   "source": [
    "for index in single_topic.argsort()[-40:]:\n",
    "    print(cv.get_feature_names()[index])"
   ]
  },
  {
   "cell_type": "code",
   "execution_count": null,
   "metadata": {},
   "outputs": [],
   "source": [
    "for index,topic in enumerate(LDA.components_):\n",
    "    print(f'THE TOP 15 WORDS FOR TOPIC #{index}')\n",
    "    print([cv.get_feature_names()[i] for i in topic.argsort()[-15:]])\n",
    "    print('\\n')"
   ]
  },
  {
   "cell_type": "code",
   "execution_count": null,
   "metadata": {},
   "outputs": [],
   "source": [
    "topic_results = LDA.transform(dtm)"
   ]
  },
  {
   "cell_type": "code",
   "execution_count": null,
   "metadata": {},
   "outputs": [],
   "source": [
    "topic_results.shape"
   ]
  },
  {
   "cell_type": "code",
   "execution_count": null,
   "metadata": {},
   "outputs": [],
   "source": [
    "topic_results[0].round(2)"
   ]
  },
  {
   "cell_type": "code",
   "execution_count": null,
   "metadata": {},
   "outputs": [],
   "source": [
    "topic_results.argmax(axis=1)"
   ]
  },
  {
   "cell_type": "code",
   "execution_count": null,
   "metadata": {},
   "outputs": [],
   "source": [
    "npr['Topic'] = topic_results.argmax(axis=1)\n",
    "npr.head(10)"
   ]
  },
  {
   "cell_type": "code",
   "execution_count": null,
   "metadata": {},
   "outputs": [],
   "source": [
    "npr[\"Topic\"].value_counts()"
   ]
  },
  {
   "cell_type": "code",
   "execution_count": null,
   "metadata": {},
   "outputs": [],
   "source": [
    "import seaborn as sns "
   ]
  },
  {
   "cell_type": "code",
   "execution_count": null,
   "metadata": {},
   "outputs": [],
   "source": [
    "sns.countplot(x=\"Topic\",data=npr)"
   ]
  },
  {
   "cell_type": "code",
   "execution_count": null,
   "metadata": {},
   "outputs": [],
   "source": [
    "npr[npr['Topic']==4].to_csv(\"14.csv\",index=False) "
   ]
  },
  {
   "cell_type": "code",
   "execution_count": null,
   "metadata": {},
   "outputs": [],
   "source": []
  }
 ],
 "metadata": {
  "kernelspec": {
   "display_name": "Python 3",
   "language": "python",
   "name": "python3"
  },
  "language_info": {
   "codemirror_mode": {
    "name": "ipython",
    "version": 3
   },
   "file_extension": ".py",
   "mimetype": "text/x-python",
   "name": "python",
   "nbconvert_exporter": "python",
   "pygments_lexer": "ipython3",
   "version": "3.7.10"
  }
 },
 "nbformat": 4,
 "nbformat_minor": 2
}
