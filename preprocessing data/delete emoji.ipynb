{
 "cells": [
  {
   "cell_type": "code",
   "execution_count": 2,
   "metadata": {},
   "outputs": [],
   "source": [
    "import emoji\n",
    "import pandas as pd\n",
    "def extract_emojis(s):\n",
    "    x=' '.join(c for c in s.split() if c not in emoji.UNICODE_EMOJI)\n",
    "    return x\n",
    "#     if x==\"\":\n",
    "# #         print(s)\n",
    "        \n",
    "#         return s#=''.join(c for c in s if c in emoji.UNICODE_EMOJI)"
   ]
  },
  {
   "cell_type": "code",
   "execution_count": null,
   "metadata": {},
   "outputs": [],
   "source": [
    "df=pd.read_csv(\"data.csv\")"
   ]
  },
  {
   "cell_type": "code",
   "execution_count": 140,
   "metadata": {},
   "outputs": [],
   "source": [
    "data=df['data']"
   ]
  },
  {
   "cell_type": "code",
   "execution_count": 141,
   "metadata": {},
   "outputs": [
    {
     "data": {
      "text/plain": [
       "0        ł ł الفساد موجود ولكن هناك خيرات وفائضه هذا قب...\n",
       "1                                              اااخ عايامك\n",
       "2                  اااخ مااشوفكن قدامي لعبك طميمه عالمظبوط\n",
       "3                                                      ااخ\n",
       "5                                                     ااوف\n",
       "                               ...                        \n",
       "19855    يلا عالءليله احسن غيرها وتحدي فايده مو تحديات ...\n",
       "19863                                           يلاااولووو\n",
       "19869     يليهمتعلقو اخد رايك ولا رايها عباره مسخره بهلبلد\n",
       "19891                 يوم اسود يوم مااجيت يلا وراي نغنيلوا\n",
       "19892                          يوم القى دوله بتعاني انفصام\n",
       "Name: data, Length: 11647, dtype: object"
      ]
     },
     "execution_count": 141,
     "metadata": {},
     "output_type": "execute_result"
    }
   ],
   "source": [
    "res=data.apply(extract_emojis)\n",
    "res.dropna()"
   ]
  },
  {
   "cell_type": "code",
   "execution_count": null,
   "metadata": {},
   "outputs": [],
   "source": []
  }
 ],
 "metadata": {
  "kernelspec": {
   "display_name": "Python 3",
   "language": "python",
   "name": "python3"
  },
  "language_info": {
   "codemirror_mode": {
    "name": "ipython",
    "version": 3
   },
   "file_extension": ".py",
   "mimetype": "text/x-python",
   "name": "python",
   "nbconvert_exporter": "python",
   "pygments_lexer": "ipython3",
   "version": "3.7.10"
  }
 },
 "nbformat": 4,
 "nbformat_minor": 4
}
