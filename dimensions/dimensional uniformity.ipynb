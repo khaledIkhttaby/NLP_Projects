{
 "cells": [
  {
   "cell_type": "markdown",
   "metadata": {},
   "source": [
    "# why this notebook is useful\n",
    "- these notebook is useful for applications related with text data because your model need features and these features in text data being words so we need the same words in all sentences "
   ]
  },
  {
   "cell_type": "code",
   "execution_count": null,
   "metadata": {},
   "outputs": [],
   "source": [
    "import numpy as np\n",
    "import pandas as pd\n",
    "import tensorflow as tf\n",
    "from keras.layers import Dense\n",
    "from keras.layers import Dense, Activation,Dropout\n",
    "from keras.optimizers import SGD,Adam\n",
    "from keras.models import Model,Sequential\n",
    "from tensorflow.keras.preprocessing.sequence import pad_sequences"
   ]
  },
  {
   "cell_type": "markdown",
   "metadata": {},
   "source": [
    "# getting max dimension \n",
    "- we need max dimension for padding "
   ]
  },
  {
   "cell_type": "code",
   "execution_count": 2,
   "metadata": {},
   "outputs": [],
   "source": [
    "def getmaxdimension(x):\n",
    "    max_dim=0\n",
    "    for i in range(len(x)):\n",
    "        if(len(x[i])>max_dim):\n",
    "            max_dim=len(x[i])\n",
    "    return max_dim"
   ]
  },
  {
   "cell_type": "code",
   "execution_count": 3,
   "metadata": {},
   "outputs": [],
   "source": [
    "input_different_dimension_inputs=[[1,2,3],[1,4,5],[1,2],[1],[2,3,2,1,6],[1,2,1]]\n"
   ]
  },
  {
   "cell_type": "code",
   "execution_count": 4,
   "metadata": {},
   "outputs": [
    {
     "data": {
      "text/plain": [
       "5"
      ]
     },
     "execution_count": 4,
     "metadata": {},
     "output_type": "execute_result"
    }
   ],
   "source": [
    "max_dim=getmaxdimension(input_different_dimension_inputs)\n",
    "max_dim"
   ]
  },
  {
   "cell_type": "code",
   "execution_count": 7,
   "metadata": {},
   "outputs": [
    {
     "data": {
      "text/plain": [
       "array([[1, 2, 3, 0, 0],\n",
       "       [1, 4, 5, 0, 0],\n",
       "       [1, 2, 0, 0, 0],\n",
       "       [1, 0, 0, 0, 0],\n",
       "       [2, 3, 2, 1, 6],\n",
       "       [1, 2, 1, 0, 0]])"
      ]
     },
     "execution_count": 7,
     "metadata": {},
     "output_type": "execute_result"
    }
   ],
   "source": [
    "input_padding=pad_sequences(input_different_dimension_inputs,padding='post',maxlen=max_dim)\n",
    "input_padding"
   ]
  },
  {
   "cell_type": "markdown",
   "metadata": {},
   "source": [
    "- note that all rows became with same dimension "
   ]
  },
  {
   "cell_type": "code",
   "execution_count": 8,
   "metadata": {},
   "outputs": [],
   "source": [
    "outputy=np.array([1,0,2,0,1,2])"
   ]
  },
  {
   "cell_type": "code",
   "execution_count": 11,
   "metadata": {},
   "outputs": [
    {
     "name": "stdout",
     "output_type": "stream",
     "text": [
      "4/4 [==============================] - 1s 131ms/step - loss: 1.4159 - acc: 0.2667 - val_loss: 0.9787 - val_acc: 0.5000\n"
     ]
    },
    {
     "data": {
      "text/plain": [
       "<tensorflow.python.keras.callbacks.History at 0x17a7f848648>"
      ]
     },
     "execution_count": 11,
     "metadata": {},
     "output_type": "execute_result"
    }
   ],
   "source": [
    "model=Sequential()\n",
    "model.add(Dense(units=50, input_shape=(input_padding.shape[1],), activation='sigmoid'))\n",
    "model.add(Dense(units=3, activation='softmax'))\n",
    "model.compile(loss='sparse_categorical_crossentropy', optimizer='adam',metrics=['acc'])\n",
    "model.fit(input_padding, outputy, epochs=1, batch_size=1,validation_split=0.2)"
   ]
  },
  {
   "cell_type": "code",
   "execution_count": null,
   "metadata": {},
   "outputs": [],
   "source": [
    "\n",
    ">>> c = np.arange(24).reshape(2,3,4)         # 3d array\n",
    ">>> print(c.shape[2])\n",
    "y=np.array([1,0])\n",
    "# configure network\n",
    "n_batch = len(c)\n",
    "n_epoch = 10\n",
    "n_neurons = 10\n",
    "# design network\n",
    "model = Sequential()\n",
    "model.add(LSTM(n_neurons, batch_input_shape=(n_batch,c.shape[1], c.shape[2]), stateful=True))\n",
    "model.add(Dense(1))\n",
    "model.compile(loss='mean_squared_error', optimizer='adam')\n",
    "    \n",
    "    \n",
    "model.fit(c, y, epochs=2, batch_size=2)    \n",
    "#model.fit(c, y, epochs=10, batch_size=2, verbose=1, shuffle=False)\n",
    "    #model.reset_states()"
   ]
  },
  {
   "cell_type": "code",
   "execution_count": null,
   "metadata": {},
   "outputs": [],
   "source": [
    "\n",
    ">>> c = np.arange(24).reshape(1,6,4)         # 3d array\n",
    ">>> print(c.shape[2])\n",
    "y=np.array([1])\n",
    "# configure network\n",
    "n_batch = len(c)\n",
    "n_epoch = 10\n",
    "n_neurons = 10\n",
    "# design network\n",
    "model = Sequential()\n",
    "model.add(LSTM(n_neurons, batch_input_shape=(n_batch,c.shape[1], c.shape[2]), stateful=True))\n",
    "model.add(Dense(1))\n",
    "model.compile(loss='mean_squared_error', optimizer='adam')\n",
    "model.fit(c, y, epochs=2, batch_size=1)   "
   ]
  }
 ],
 "metadata": {
  "kernelspec": {
   "display_name": "Python 3",
   "language": "python",
   "name": "python3"
  },
  "language_info": {
   "codemirror_mode": {
    "name": "ipython",
    "version": 3
   },
   "file_extension": ".py",
   "mimetype": "text/x-python",
   "name": "python",
   "nbconvert_exporter": "python",
   "pygments_lexer": "ipython3",
   "version": "3.7.10"
  }
 },
 "nbformat": 4,
 "nbformat_minor": 4
}
