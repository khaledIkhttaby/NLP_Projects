{
 "cells": [
  {
   "cell_type": "code",
   "execution_count": 1,
   "metadata": {},
   "outputs": [],
   "source": [
    "import numpy as np\n",
    "from itertools import permutations\n",
    "import random\n",
    "import itertools\n",
    "import re\n",
    "import numpy as np\n",
    "from itertools import permutations\n",
    "import random\n",
    "import itertools\n",
    "import re\n",
    "import pandas as pd\n",
    "import unicodedata\n",
    "ar_let_phon_maplist = {u\"أ\":\"A\",u'ﺍ':'A',u'ى':'A', u'ﺏ':'B', u'ﺕ':'T', u'ﺙ':'TH', u'ﺝ':'J', u'ﺡ':'H', u'ﺥ':'KH', u'ﻩ':'H', u'ﻉ':'a', u'ﻍ':'GH', u'ﻑ':'F', u'ﻕ':'q', u'ﺹ':u's', u'ﺽ':u'd', u'ﺩ':'D', u'ﺫ':'DH', u'ﻁ':u't', u'ﻙ':'K', u'ﻡ':'M', u'ﻥ':'N', u'ﻝ':'L', u'ﻱ':'Y', u'ﺱ':'S', u'ﺵ':'SH', u'ﻅ':u'z', u'ﺯ':'Z', u'ﻭ':'W', u'ﺭ':'R'}\n",
    "ar_let_phon_maplist = {unicodedata.normalize('NFKD', k): v for k, v in ar_let_phon_maplist.items()}"
   ]
  },
  {
   "cell_type": "code",
   "execution_count": 2,
   "metadata": {},
   "outputs": [],
   "source": [
    "# list(ar_let_phon_maplist.keys())\n",
    "ar_let_phon_maplist = {u\"ء\":\"2\",u\"ة\":\"h\",u\"ئ\":\"2\",u\"\":\"\",u\"أ\":\"A\",u'ﺍ':'A',u'ى':'A', u'ﺏ':'B', u'ﺕ':'T', u'ﺙ':'TH', u'ﺝ':'J', u'ﺡ':'H', u'ﺥ':'KH', u'ﻩ':'H', u'ﻉ':'a', u'ﻍ':'GH', u'ﻑ':'F', u'ﻕ':'q', u'ﺹ':u's', u'ﺽ':u'd', u'ﺩ':'D', u'ﺫ':'DH', u'ﻁ':u't', u'ﻙ':'K', u'ﻡ':'M', u'ﻥ':'N', u'ﻝ':'L', u'ﻱ':'Y', u'ﺱ':'S', u'ﺵ':'SH', u'ﻅ':u'z', u'ﺯ':'Z', u'ﻭ':'W', u'ﺭ':'R'}\n"
   ]
  },
  {
   "cell_type": "code",
   "execution_count": 3,
   "metadata": {},
   "outputs": [],
   "source": [
    "notaccept=[]\n",
    "def Accept(passward):\n",
    "#     if passward in notaccept:\n",
    "#         return False\n",
    "    if len(passward) < 16 and len(passward) > 6:\n",
    "        return True\n",
    "    notaccept.append(passward)\n",
    "    return False"
   ]
  },
  {
   "cell_type": "code",
   "execution_count": null,
   "metadata": {},
   "outputs": [],
   "source": []
  },
  {
   "cell_type": "code",
   "execution_count": 4,
   "metadata": {},
   "outputs": [],
   "source": [
    "def arabic(string):\n",
    "    for i in string:\n",
    "        if re.search('^[a-zA-Z]+$',string):\n",
    "            return False\n",
    "    return True\n",
    "### str\n",
    "def generate_str(string):\n",
    "    if string != \"\":\n",
    "        if arabic(string):\n",
    "#             word =string\n",
    "            for char in string:\n",
    "                string=string.replace(char,ar_let_phon_maplist[char])\n",
    "            return [string]+ generate_str(string) \n",
    "        return list(set([string,string.capitalize(),string[0].lower() + string[1:],string.upper()]))\n",
    "    return [\"\"]\n",
    "\n",
    "\n",
    "\n",
    "def generate_num(num):\n",
    "    \n",
    "    stat = []\n",
    "    if len(num) == 4:\n",
    "        stat.append(num)\n",
    "        stat.append(num[-2:])\n",
    "    elif len(num) <= 2:\n",
    "        stat.append(num)\n",
    "        if num.startswith(\"0\"):\n",
    "            stat.append(num[-1:])\n",
    "    else:\n",
    "        stat.append(num[0:3])\n",
    "        stat.append(num[-3:])\n",
    "        stat.append(num[(len(num)//2)-1:(len(num)//2)+2])\n",
    "\n",
    "    return list(set(stat))\n"
   ]
  },
  {
   "cell_type": "code",
   "execution_count": null,
   "metadata": {},
   "outputs": [],
   "source": []
  },
  {
   "cell_type": "code",
   "execution_count": 5,
   "metadata": {},
   "outputs": [],
   "source": [
    "def generate(data):\n",
    "    all_cases = {}\n",
    "    dic= {j:[] for j in range(len(data))}\n",
    "    dic[len(dic)]= ['+','@','#','$',\"soso\",\"lolo\", \"roro\",\"saso\",\"bebo\",\"123\",\"111\",\"99\"]\n",
    "    for i in range(len(data)):\n",
    "        if data[i].isnumeric():\n",
    "#             print(\"PPPPPPP\")\n",
    "            dic[i] = generate_num(data[i])\n",
    "        else:\n",
    "            dic[i] = generate_str(data[i])\n",
    "#     print(dic)\n",
    "#     perms = list(itertools.permutations(range(len(dic))))\n",
    "    \n",
    "    perms2=[]\n",
    "#     print(len(set(perms)))\n",
    "# #     for perm in perms:\n",
    "    for i in range(2,5):\n",
    "        perms2+=list(itertools.permutations(list(dic.keys()),i))\n",
    "#     perms = list(set(perms2))\n",
    "    return perms2,dic"
   ]
  },
  {
   "cell_type": "code",
   "execution_count": 6,
   "metadata": {},
   "outputs": [],
   "source": [
    "def creat_pass(pattern,dictionary,symbolic):\n",
    "    r=[]\n",
    "    for item in pattern:\n",
    "#         print(item,dictionary[item])\n",
    "        if item ==len(dictionary)-1:\n",
    "            t=symbolic.pop(0)\n",
    "            r.append(t)\n",
    "            symbolic.append(t)\n",
    "        else:\n",
    "#             random.shuffle(dictionary[item])\n",
    "            r.append(dictionary[item][0])\n",
    "    return symbolic,\"\".join(r),Accept(\"\".join(r))\n",
    "\n"
   ]
  },
  {
   "cell_type": "code",
   "execution_count": 7,
   "metadata": {},
   "outputs": [],
   "source": [
    "# check_email(\"khabebob\")"
   ]
  },
  {
   "cell_type": "code",
   "execution_count": 8,
   "metadata": {},
   "outputs": [],
   "source": [
    "def check_email(email):\n",
    "    email=email.lower()\n",
    "    regex = '^([a-z])([a-z0-9]|\\.|\\_|\\-)+$'\n",
    "    num = \"[0-9]\"\n",
    "    letter = \"[a-z]\"\n",
    "\n",
    "    num_ = len(re.sub(num, \"\", email))\n",
    "    letter_ = len(re.sub(letter, \"\", email))\n",
    "    if re.search(regex, email) and letter_< num_ and Accept(email):\n",
    "        return True,email\n",
    "    return False,_\n"
   ]
  },
  {
   "cell_type": "code",
   "execution_count": 9,
   "metadata": {},
   "outputs": [],
   "source": [
    "\n",
    "\n",
    "\n",
    "def create_email(dicionary,patterns,symbolic):\n",
    "    checked=False\n",
    "    j=-1\n",
    "    while not checked:\n",
    "        j+=1\n",
    "        pat=patterns[j]\n",
    "#         patterns.append(pat)\n",
    "#         print(patterns[:10])\n",
    "        j+=1\n",
    "        symbol=symbolic.copy()\n",
    "        for i in range(len(symbolic)):\n",
    "            symbolic,email,_= creat_pass(pat,dicionary,symbolic)\n",
    "#         print(email,\"AAAAAAAAAAAAA\")\n",
    "            checked,email=check_email(email)\n",
    "    symbolic=symbol.copy()\n",
    "    pat=symbolic.pop(i)\n",
    "    symbolic.append(pat)\n",
    "    pat=patterns.pop(j)\n",
    "    patterns.append(j)\n",
    "#     print(pat,\"::::::::\",j,len(patterns))\n",
    "    return email,patterns,symbolic,pat\n"
   ]
  },
  {
   "cell_type": "code",
   "execution_count": 10,
   "metadata": {},
   "outputs": [],
   "source": [
    "# # patterns=list(set(io))\n",
    "def create_for_sum_of_persons(data,patterns,symbolic):\n",
    "#     print(\"::::::::aaaaaaa\")\n",
    "#     result={}\n",
    "    result_array=[]\n",
    "    usage_pattern=[]\n",
    "    for d in data:\n",
    "#         print(d,\"AAAAAAAAAAAAAAAAAAAAAa\")\n",
    "        result={}\n",
    "        _,dicionary_from_da=generate(d)\n",
    "#         print(dicionary_from_da)\n",
    "        checked=False\n",
    "        count=-1\n",
    "        while not checked:\n",
    "            count+=1\n",
    "            pat=patterns[count]\n",
    "#             patterns.append(pat)\n",
    "            symbolic,password1,checked= creat_pass(pat,dicionary_from_da,symbolic)\n",
    "#             result[\"pat_pass1\"]=pat\n",
    "            result[\"pass1\"]=password1\n",
    "        pat=patterns.pop(count)\n",
    "        patterns.append(pat)\n",
    "        usage_pattern.append(pat)\n",
    "        checked=False\n",
    "        count=-1\n",
    "        while not checked:\n",
    "            count+=1\n",
    "            pat=patterns[count]\n",
    "#             patterns.append(pat)\n",
    "            symbolic,password2,checked= creat_pass(pat,dicionary_from_da,symbolic)\n",
    "#             result[\"pat_pass2\"]=pat\n",
    "            result[\"pass2\"]=password2\n",
    "        pat=patterns.pop(count)\n",
    "        patterns.append(pat)\n",
    "        usage_pattern.append(pat)\n",
    "        email,patterns,symbolic,pat=create_email(dicionary_from_da,patterns,symbolic)\n",
    "#         result[\"pat_email\"]=pat\n",
    "        result[\"email\"]=email\n",
    "        result_array.append(result)\n",
    "        usage_pattern.append(pat)\n",
    "    return result_array,usage_pattern\n",
    "\n",
    "# len(set(usage_pat))"
   ]
  },
  {
   "cell_type": "code",
   "execution_count": 11,
   "metadata": {},
   "outputs": [],
   "source": [
    "import json\n",
    "f = open('accounts_info.json',)\n",
    "  \n",
    "df = json.load(f)\n",
    "df\n",
    "df=pd.DataFrame(df)\n"
   ]
  },
  {
   "cell_type": "code",
   "execution_count": 12,
   "metadata": {},
   "outputs": [],
   "source": [
    "# df = pd.read_csv(\"data.csv\",names= [\"first_name\",\"last_name\",\"city\",\"day\",\"month\",\"year\",\"phone\"])\n",
    "# df = df.replace(np.nan, \"\")\n",
    "df = df.applymap(str)\n",
    "df['first_name'] = df['first_name'].str.replace(\" \",\"\")\n",
    "df['last_name'] = df['last_name'].str.replace(\" \",\"\")\n",
    "df['city'] = df['city'].str.replace(\" \",\"\")\n",
    "data_for_patterns=[\"0\",\"1\",\"2\",\"3\",\"4\",\"5\",\"6\"]\n",
    "\n",
    "symbolic=['+','@','#','$','&',\"!\",\"aaa\",\"111\",\"99\",\"123\",\"password\",\"12345\",\"xxx\",\"asd\",\"qwer\",\"321\",\"555\",\"zxc\",\"soso\",\"lolo\", \"roro\",\"saso\",\"bebo\",\"lala\",\"meme\"]\n",
    "patterns,dictonary_from_data=generate(data_for_patterns)\n",
    "random.shuffle(patterns)\n",
    "random.shuffle(patterns)\n",
    "random.shuffle(patterns)"
   ]
  },
  {
   "cell_type": "code",
   "execution_count": 13,
   "metadata": {},
   "outputs": [],
   "source": [
    "# df.values.tolist()\n",
    "df=df.drop(index=191,axis=1)\n",
    "# new_data=getdeata(df.values.tolist())\n"
   ]
  },
  {
   "cell_type": "code",
   "execution_count": 14,
   "metadata": {},
   "outputs": [],
   "source": [
    "# new_data"
   ]
  },
  {
   "cell_type": "code",
   "execution_count": 25,
   "metadata": {},
   "outputs": [],
   "source": [
    "\n",
    "def getdeata(data):\n",
    "    res=[]\n",
    "    for d in data:\n",
    "#         print\n",
    "        if  re.search('^[a-zA-Z]+$',d[0]) and re.search('^[a-zA-Z]+$',d[1])and re.search('^[a-zA-Z]+$',d[5]):\n",
    "            res.append(d)\n",
    "    return res"
   ]
  },
  {
   "cell_type": "code",
   "execution_count": 26,
   "metadata": {},
   "outputs": [],
   "source": [
    "# df[170:180].values.tolist()\n",
    "new_data=getdeata(df.values.tolist())\n",
    "        "
   ]
  },
  {
   "cell_type": "code",
   "execution_count": 27,
   "metadata": {},
   "outputs": [],
   "source": [
    "final_result,usage_pat=create_for_sum_of_persons(new_data[:200],patterns,symbolic)\n",
    "# usage_pat\n",
    "# print(usage_pat)\n",
    "result=pd.DataFrame(final_result)\n",
    "\n"
   ]
  },
  {
   "cell_type": "code",
   "execution_count": 28,
   "metadata": {},
   "outputs": [],
   "source": [
    "# resultl=pd.concat([pd.DataFrame(df[:200],columns=df.columns) ,pd.DataFrame(result.values.tolist(),columns= [\"first_password\",\"second_password\",\"email\"])],axis=1)\n",
    "# resultl.to_csv(\"final_passwords.csv\",index=False)"
   ]
  },
  {
   "cell_type": "code",
   "execution_count": 29,
   "metadata": {},
   "outputs": [],
   "source": [
    "resultf=pd.concat([pd.DataFrame(new_data[:200],columns=df.columns) ,pd.DataFrame(result.values.tolist(),columns= [\"first_password\",\"second_password\",\"email\"])],axis=1)\n",
    "resultf.to_csv(\"final_res.csv\",index=False)"
   ]
  },
  {
   "cell_type": "code",
   "execution_count": 385,
   "metadata": {},
   "outputs": [],
   "source": [
    "# resultf.to_csv(\"final_res.csv\",index=False)"
   ]
  },
  {
   "cell_type": "code",
   "execution_count": null,
   "metadata": {},
   "outputs": [],
   "source": []
  }
 ],
 "metadata": {
  "kernelspec": {
   "display_name": "Python 3",
   "language": "python",
   "name": "python3"
  },
  "language_info": {
   "codemirror_mode": {
    "name": "ipython",
    "version": 3
   },
   "file_extension": ".py",
   "mimetype": "text/x-python",
   "name": "python",
   "nbconvert_exporter": "python",
   "pygments_lexer": "ipython3",
   "version": "3.7.10"
  }
 },
 "nbformat": 4,
 "nbformat_minor": 4
}
