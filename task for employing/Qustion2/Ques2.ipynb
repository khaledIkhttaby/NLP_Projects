{
 "cells": [
  {
   "cell_type": "code",
   "execution_count": 1,
   "metadata": {},
   "outputs": [],
   "source": [
    "import numpy as np\n",
    "import pandas as pd\n",
    "import matplotlib.pyplot as plt\n",
    "import numpy as np\n",
    "%matplotlib inline "
   ]
  },
  {
   "cell_type": "markdown",
   "metadata": {},
   "source": [
    "# تهيئة المدخلات "
   ]
  },
  {
   "cell_type": "code",
   "execution_count": 2,
   "metadata": {},
   "outputs": [],
   "source": [
    "\n",
    "Mark_number=['“','؟','.','ّ','ُ','ً','َ','ِ','ٍ','~',',',':','،','!','(',')','{','}','/','’','ٌ','”','\\'','\\'','ِ','َ','0']\n",
    "number=np.arange(0,10)\n",
    "number=pd.Series(number)\n",
    "number=number.apply(lambda x:str(x))\n",
    "charactersA=['أ','آ','ى','إ','ء','ئ']\n",
    "charactersT=['ة']\n",
    "Dublicatecharcter=['اا','وو','بب','سس','شش','وو','عع','لل','كك','مم']"
   ]
  },
  {
   "cell_type": "markdown",
   "metadata": {},
   "source": [
    "# تابع الحذف "
   ]
  },
  {
   "cell_type": "code",
   "execution_count": 3,
   "metadata": {},
   "outputs": [],
   "source": [
    "def delete_Marks_numberc(wordd,Mark_number,character):\n",
    "    for i in range(len(Mark_number)):\n",
    "        wordd=wordd.replace(Mark_number[i],character)\n",
    "    return wordd\n",
    "def delete_stop_word(word,stopwords):\n",
    "    for tword in stopwords:\n",
    "        if(word==tword):\n",
    "            word=''\n",
    "    return word\n",
    "def delet_word_stop(word,stopword):\n",
    "    Axis=word.split(' ')\n",
    "    Axis=pd.Series(Axis)\n",
    "    Axis=Axis.apply(lambda x:delete_stop_word(x,stopword))\n",
    "    Axis=' '.join(Axis)\n",
    "    return Axis\n",
    "\n",
    "\n",
    "    "
   ]
  },
  {
   "cell_type": "markdown",
   "metadata": {},
   "source": [
    "# توابع المعالجة لل ٍstopword ,Review,Rating"
   ]
  },
  {
   "cell_type": "code",
   "execution_count": 4,
   "metadata": {},
   "outputs": [],
   "source": [
    "def proccessstopword(stopword):\n",
    "    stopword=delete_Marks_numberc(stopword,Mark_number,'')\n",
    "    stopword=delete_Marks_numberc(stopword,Mark_number[3],'')\n",
    "    stopword=delete_Marks_numberc(stopword,charactersA,'ا')\n",
    "    stopword=delete_Marks_numberc(stopword,charactersT,'ه')\n",
    "    stopword=delete_Marks_numberc(stopword,number,' ')\n",
    "    #stopword=add_space_to_separate_word(stopword)#about 0.5 hour\n",
    "    return stopword\n",
    "\n",
    "def proccessReview(review):\n",
    "        \n",
    "        review=proccessstopword(review)\n",
    "        review=delet_word_stop(review,stopwordsproccessed)#about 10 minute\n",
    "        #review=delete_Marks_numberc(review,stopwordsproccessed,' ')about 0.5 hour\n",
    "        return review\n",
    "    \n",
    "  \n",
    "    \n",
    "     \n",
    "        #review=delete_Marks_numberc(review,stopwordsproccessed,'')\n",
    "        #Result.append(word)\n",
    "\n",
    "def proccessRating(Rating):\n",
    "    word=''\n",
    "    if(Rating==1):\n",
    "          word='very_bad'\n",
    "    elif(Rating==2):\n",
    "        word='bad'\n",
    "    elif(Rating==3):\n",
    "        word='neutral'\n",
    "    elif(Rating==4):\n",
    "           word='good'\n",
    "    elif(Rating==5):\n",
    "        word='very_good'\n",
    "    return word;\n",
    "            \n",
    "            \n"
   ]
  },
  {
   "cell_type": "markdown",
   "metadata": {},
   "source": [
    "# قراءة الداتا من الملفات"
   ]
  },
  {
   "cell_type": "code",
   "execution_count": 5,
   "metadata": {},
   "outputs": [
    {
     "data": {
      "text/html": [
       "<div>\n",
       "<style scoped>\n",
       "    .dataframe tbody tr th:only-of-type {\n",
       "        vertical-align: middle;\n",
       "    }\n",
       "\n",
       "    .dataframe tbody tr th {\n",
       "        vertical-align: top;\n",
       "    }\n",
       "\n",
       "    .dataframe thead th {\n",
       "        text-align: right;\n",
       "    }\n",
       "</style>\n",
       "<table border=\"1\" class=\"dataframe\">\n",
       "  <thead>\n",
       "    <tr style=\"text-align: right;\">\n",
       "      <th></th>\n",
       "      <th>no</th>\n",
       "      <th>Hotel name</th>\n",
       "      <th>rating</th>\n",
       "      <th>user type</th>\n",
       "      <th>room type</th>\n",
       "      <th>nights</th>\n",
       "      <th>review</th>\n",
       "    </tr>\n",
       "  </thead>\n",
       "  <tbody>\n",
       "    <tr>\n",
       "      <th>0</th>\n",
       "      <td>2</td>\n",
       "      <td>فندق 72</td>\n",
       "      <td>2</td>\n",
       "      <td>مسافر منفرد</td>\n",
       "      <td>غرفة ديلوكس مزدوجة أو توأم</td>\n",
       "      <td>أقمت ليلة واحدة</td>\n",
       "      <td>“ممتاز”. النظافة والطاقم متعاون.</td>\n",
       "    </tr>\n",
       "    <tr>\n",
       "      <th>1</th>\n",
       "      <td>3</td>\n",
       "      <td>فندق 72</td>\n",
       "      <td>5</td>\n",
       "      <td>زوج</td>\n",
       "      <td>غرفة ديلوكس مزدوجة أو توأم</td>\n",
       "      <td>أقمت ليلة واحدة</td>\n",
       "      <td>استثنائي. سهولة إنهاء المعاملة في الاستقبال. ل...</td>\n",
       "    </tr>\n",
       "    <tr>\n",
       "      <th>2</th>\n",
       "      <td>16</td>\n",
       "      <td>فندق 72</td>\n",
       "      <td>5</td>\n",
       "      <td>زوج</td>\n",
       "      <td>-</td>\n",
       "      <td>أقمت ليلتين</td>\n",
       "      <td>استثنائي. انصح بأختيار الاسويت و بالاخص غرفه ر...</td>\n",
       "    </tr>\n",
       "    <tr>\n",
       "      <th>3</th>\n",
       "      <td>20</td>\n",
       "      <td>فندق 72</td>\n",
       "      <td>1</td>\n",
       "      <td>زوج</td>\n",
       "      <td>غرفة قياسية مزدوجة</td>\n",
       "      <td>أقمت ليلة واحدة</td>\n",
       "      <td>“استغرب تقييم الفندق كخمس نجوم”. لا شي. يستحق ...</td>\n",
       "    </tr>\n",
       "    <tr>\n",
       "      <th>4</th>\n",
       "      <td>23</td>\n",
       "      <td>فندق 72</td>\n",
       "      <td>4</td>\n",
       "      <td>زوج</td>\n",
       "      <td>غرفة ديلوكس مزدوجة أو توأم</td>\n",
       "      <td>أقمت ليلتين</td>\n",
       "      <td>جيد. المكان جميل وهاديء. كل شي جيد ونظيف بس كا...</td>\n",
       "    </tr>\n",
       "  </tbody>\n",
       "</table>\n",
       "</div>"
      ],
      "text/plain": [
       "   no Hotel name  rating    user type                   room type  \\\n",
       "0   2    فندق 72       2  مسافر منفرد  غرفة ديلوكس مزدوجة أو توأم   \n",
       "1   3    فندق 72       5          زوج  غرفة ديلوكس مزدوجة أو توأم   \n",
       "2  16    فندق 72       5          زوج                           -   \n",
       "3  20    فندق 72       1          زوج          غرفة قياسية مزدوجة   \n",
       "4  23    فندق 72       4          زوج  غرفة ديلوكس مزدوجة أو توأم   \n",
       "\n",
       "            nights                                             review  \n",
       "0  أقمت ليلة واحدة                  “ممتاز”. النظافة والطاقم متعاون.   \n",
       "1  أقمت ليلة واحدة  استثنائي. سهولة إنهاء المعاملة في الاستقبال. ل...  \n",
       "2      أقمت ليلتين  استثنائي. انصح بأختيار الاسويت و بالاخص غرفه ر...  \n",
       "3  أقمت ليلة واحدة  “استغرب تقييم الفندق كخمس نجوم”. لا شي. يستحق ...  \n",
       "4      أقمت ليلتين  جيد. المكان جميل وهاديء. كل شي جيد ونظيف بس كا...  "
      ]
     },
     "execution_count": 5,
     "metadata": {},
     "output_type": "execute_result"
    }
   ],
   "source": [
    "hotel_inf=pd.read_csv(\"dataset.csv\")\n",
    "stopwords=pd.read_csv('stopwords.csv')\n",
    "list_stopword=stopwords['stopwords']\n",
    "list_review=hotel_inf['review']\n",
    "list_rating=hotel_inf['rating']\n",
    "hotel_inf.head()"
   ]
  },
  {
   "cell_type": "markdown",
   "metadata": {},
   "source": [
    "# معالجة ملف ال Stopword"
   ]
  },
  {
   "cell_type": "code",
   "execution_count": 6,
   "metadata": {},
   "outputs": [
    {
     "data": {
      "text/plain": [
       "'لا'"
      ]
     },
     "execution_count": 6,
     "metadata": {},
     "output_type": "execute_result"
    }
   ],
   "source": [
    "stopwordsproccessed=list_stopword.apply(lambda x:proccessstopword(x)) \n",
    "stopwordsproccessed[561]\n"
   ]
  },
  {
   "cell_type": "code",
   "execution_count": null,
   "metadata": {},
   "outputs": [],
   "source": []
  },
  {
   "cell_type": "markdown",
   "metadata": {},
   "source": [
    "# معالجة ال Review"
   ]
  },
  {
   "cell_type": "code",
   "execution_count": 7,
   "metadata": {},
   "outputs": [
    {
     "data": {
      "text/plain": [
       "0                             ممتاز النظافه والطاقم متعاون \n",
       "1            استثنااي سهوله انهاا المعامله  الاستقبال لاشيا\n",
       "2         استثنااي انصح باختيار الاسويت  بالاخص غرفه رقم...\n",
       "3           استغرب تقييم الفندق كخمس نجوم  شي يستحق   نجمه \n",
       "4         جيد المكان جميل وهاديا  شي جيد ونظيف   حوض الس...\n",
       "                                ...                        \n",
       "105693    فند  شا عجبني طقم العمل سيا جدالا يوجد بالفندق...\n",
       "105694    سيا قربه  المسجد النبوي الشريف استخدام موظف ال...\n",
       "105695    اسوا اقامه  الرحله  القرب  الحرم  شيا ازعاج  ت...\n",
       "105696                             المستوا قربه  الحرم  شيا\n",
       "105697    مخيب للامل   التنسيق   معرفه الغرف  زوار  فارغ...\n",
       "Name: review, Length: 105698, dtype: object"
      ]
     },
     "execution_count": 7,
     "metadata": {},
     "output_type": "execute_result"
    }
   ],
   "source": [
    "ReviewProccessed=list_review.apply(lambda x:proccessReview(x))\n",
    "ReviewProccessed\n"
   ]
  },
  {
   "cell_type": "markdown",
   "metadata": {},
   "source": [
    "# معالجة ال Rating"
   ]
  },
  {
   "cell_type": "code",
   "execution_count": 698,
   "metadata": {},
   "outputs": [
    {
     "data": {
      "text/plain": [
       "0               bad\n",
       "1         very_good\n",
       "2         very_good\n",
       "3          very_bad\n",
       "4              good\n",
       "            ...    \n",
       "105693     very_bad\n",
       "105694          bad\n",
       "105695          bad\n",
       "105696          bad\n",
       "105697          bad\n",
       "Name: rating, Length: 105698, dtype: object"
      ]
     },
     "execution_count": 698,
     "metadata": {},
     "output_type": "execute_result"
    }
   ],
   "source": [
    "Rating_proccessed=list_rating.apply(lambda x:proccessRating(x))\n",
    "Rating_proccessed"
   ]
  },
  {
   "cell_type": "markdown",
   "metadata": {},
   "source": [
    "# تحويل البيانات المعالجة الى DataFram"
   ]
  },
  {
   "cell_type": "code",
   "execution_count": 699,
   "metadata": {},
   "outputs": [],
   "source": [
    "\n",
    "ReviewProccessedasDataFrame=pd.DataFrame(ReviewProccessed)\n",
    "Rating_proccessed_As_DataFrame=pd.DataFrame(Rating_proccessed)"
   ]
  },
  {
   "cell_type": "markdown",
   "metadata": {},
   "source": [
    "# دمج بيانات Rewiew,Rating\n"
   ]
  },
  {
   "cell_type": "code",
   "execution_count": 700,
   "metadata": {},
   "outputs": [],
   "source": [
    "Rating_and_Reviews=list(zip(Rating_proccessed,ReviewProccessed))"
   ]
  },
  {
   "cell_type": "markdown",
   "metadata": {},
   "source": [
    "#  تهيئةالبيانات لتصديرها لملف csv"
   ]
  },
  {
   "cell_type": "code",
   "execution_count": 731,
   "metadata": {},
   "outputs": [
    {
     "data": {
      "text/html": [
       "<div>\n",
       "<style scoped>\n",
       "    .dataframe tbody tr th:only-of-type {\n",
       "        vertical-align: middle;\n",
       "    }\n",
       "\n",
       "    .dataframe tbody tr th {\n",
       "        vertical-align: top;\n",
       "    }\n",
       "\n",
       "    .dataframe thead th {\n",
       "        text-align: right;\n",
       "    }\n",
       "</style>\n",
       "<table border=\"1\" class=\"dataframe\">\n",
       "  <thead>\n",
       "    <tr style=\"text-align: right;\">\n",
       "      <th></th>\n",
       "      <th>Rating</th>\n",
       "      <th>Review</th>\n",
       "    </tr>\n",
       "  </thead>\n",
       "  <tbody>\n",
       "    <tr>\n",
       "      <th>0</th>\n",
       "      <td>bad</td>\n",
       "      <td>ممتاز النظافه والطاقم متعاون</td>\n",
       "    </tr>\n",
       "    <tr>\n",
       "      <th>1</th>\n",
       "      <td>very_good</td>\n",
       "      <td>استثنااي سهوله انهاا المعامله  الاستقبال لاشيا</td>\n",
       "    </tr>\n",
       "    <tr>\n",
       "      <th>2</th>\n",
       "      <td>very_good</td>\n",
       "      <td>استثنااي انصح باختيار الاسويت  بالاخص غرفه رقم...</td>\n",
       "    </tr>\n",
       "    <tr>\n",
       "      <th>3</th>\n",
       "      <td>very_bad</td>\n",
       "      <td>استغرب تقييم الفندق كخمس نجوم  شي يستحق   نجمه</td>\n",
       "    </tr>\n",
       "    <tr>\n",
       "      <th>4</th>\n",
       "      <td>good</td>\n",
       "      <td>جيد المكان جميل وهاديا  شي جيد ونظيف   حوض الس...</td>\n",
       "    </tr>\n",
       "    <tr>\n",
       "      <th>...</th>\n",
       "      <td>...</td>\n",
       "      <td>...</td>\n",
       "    </tr>\n",
       "    <tr>\n",
       "      <th>105693</th>\n",
       "      <td>very_bad</td>\n",
       "      <td>فند  شا عجبني طقم العمل سيا جدالا يوجد بالفندق...</td>\n",
       "    </tr>\n",
       "    <tr>\n",
       "      <th>105694</th>\n",
       "      <td>bad</td>\n",
       "      <td>سيا قربه  المسجد النبوي الشريف استخدام موظف ال...</td>\n",
       "    </tr>\n",
       "    <tr>\n",
       "      <th>105695</th>\n",
       "      <td>bad</td>\n",
       "      <td>اسوا اقامه  الرحله  القرب  الحرم  شيا ازعاج  ت...</td>\n",
       "    </tr>\n",
       "    <tr>\n",
       "      <th>105696</th>\n",
       "      <td>bad</td>\n",
       "      <td>المستوا قربه  الحرم  شيا</td>\n",
       "    </tr>\n",
       "    <tr>\n",
       "      <th>105697</th>\n",
       "      <td>bad</td>\n",
       "      <td>مخيب للامل   التنسيق   معرفه الغرف  زوار  فارغ...</td>\n",
       "    </tr>\n",
       "  </tbody>\n",
       "</table>\n",
       "<p>105698 rows × 2 columns</p>\n",
       "</div>"
      ],
      "text/plain": [
       "           Rating                                             Review\n",
       "0             bad                      ممتاز النظافه والطاقم متعاون \n",
       "1       very_good     استثنااي سهوله انهاا المعامله  الاستقبال لاشيا\n",
       "2       very_good  استثنااي انصح باختيار الاسويت  بالاخص غرفه رقم...\n",
       "3        very_bad    استغرب تقييم الفندق كخمس نجوم  شي يستحق   نجمه \n",
       "4            good  جيد المكان جميل وهاديا  شي جيد ونظيف   حوض الس...\n",
       "...           ...                                                ...\n",
       "105693   very_bad  فند  شا عجبني طقم العمل سيا جدالا يوجد بالفندق...\n",
       "105694        bad  سيا قربه  المسجد النبوي الشريف استخدام موظف ال...\n",
       "105695        bad  اسوا اقامه  الرحله  القرب  الحرم  شيا ازعاج  ت...\n",
       "105696        bad                           المستوا قربه  الحرم  شيا\n",
       "105697        bad  مخيب للامل   التنسيق   معرفه الغرف  زوار  فارغ...\n",
       "\n",
       "[105698 rows x 2 columns]"
      ]
     },
     "execution_count": 731,
     "metadata": {},
     "output_type": "execute_result"
    }
   ],
   "source": [
    "Rating_and_Reviews_As_DataFrame=pd.DataFrame(Rating_and_Reviews,columns=['Rating','Review'])\n",
    "Rating_and_Reviews_As_DataFrame"
   ]
  },
  {
   "cell_type": "markdown",
   "metadata": {},
   "source": [
    "# تصدير البيانات ل csv\n"
   ]
  },
  {
   "cell_type": "code",
   "execution_count": 737,
   "metadata": {},
   "outputs": [],
   "source": [
    "Rating_and_Reviews_As_DataFrame.to_csv('DataProccessed.csv')"
   ]
  },
  {
   "cell_type": "code",
   "execution_count": 738,
   "metadata": {},
   "outputs": [
    {
     "data": {
      "text/html": [
       "<div>\n",
       "<style scoped>\n",
       "    .dataframe tbody tr th:only-of-type {\n",
       "        vertical-align: middle;\n",
       "    }\n",
       "\n",
       "    .dataframe tbody tr th {\n",
       "        vertical-align: top;\n",
       "    }\n",
       "\n",
       "    .dataframe thead th {\n",
       "        text-align: right;\n",
       "    }\n",
       "</style>\n",
       "<table border=\"1\" class=\"dataframe\">\n",
       "  <thead>\n",
       "    <tr style=\"text-align: right;\">\n",
       "      <th></th>\n",
       "      <th>Unnamed: 0</th>\n",
       "      <th>Rating</th>\n",
       "      <th>Review</th>\n",
       "    </tr>\n",
       "  </thead>\n",
       "  <tbody>\n",
       "    <tr>\n",
       "      <th>0</th>\n",
       "      <td>0</td>\n",
       "      <td>bad</td>\n",
       "      <td>ممتاز النظافه والطاقم متعاون</td>\n",
       "    </tr>\n",
       "    <tr>\n",
       "      <th>1</th>\n",
       "      <td>1</td>\n",
       "      <td>very_good</td>\n",
       "      <td>استثنااي سهوله انهاا المعامله  الاستقبال لاشيا</td>\n",
       "    </tr>\n",
       "    <tr>\n",
       "      <th>2</th>\n",
       "      <td>2</td>\n",
       "      <td>very_good</td>\n",
       "      <td>استثنااي انصح باختيار الاسويت  بالاخص غرفه رقم...</td>\n",
       "    </tr>\n",
       "    <tr>\n",
       "      <th>3</th>\n",
       "      <td>3</td>\n",
       "      <td>very_bad</td>\n",
       "      <td>استغرب تقييم الفندق كخمس نجوم  شي يستحق   نجمه</td>\n",
       "    </tr>\n",
       "    <tr>\n",
       "      <th>4</th>\n",
       "      <td>4</td>\n",
       "      <td>good</td>\n",
       "      <td>جيد المكان جميل وهاديا  شي جيد ونظيف   حوض الس...</td>\n",
       "    </tr>\n",
       "  </tbody>\n",
       "</table>\n",
       "</div>"
      ],
      "text/plain": [
       "   Unnamed: 0     Rating                                             Review\n",
       "0           0        bad                      ممتاز النظافه والطاقم متعاون \n",
       "1           1  very_good     استثنااي سهوله انهاا المعامله  الاستقبال لاشيا\n",
       "2           2  very_good  استثنااي انصح باختيار الاسويت  بالاخص غرفه رقم...\n",
       "3           3   very_bad    استغرب تقييم الفندق كخمس نجوم  شي يستحق   نجمه \n",
       "4           4       good  جيد المكان جميل وهاديا  شي جيد ونظيف   حوض الس..."
      ]
     },
     "execution_count": 738,
     "metadata": {},
     "output_type": "execute_result"
    }
   ],
   "source": [
    "DataProccessed=pd.read_csv('DataProccessed.csv')\n",
    "DataProccessed.head()"
   ]
  },
  {
   "cell_type": "code",
   "execution_count": 751,
   "metadata": {},
   "outputs": [],
   "source": [
    "word='khaled ammar ali'"
   ]
  },
  {
   "cell_type": "code",
   "execution_count": 755,
   "metadata": {},
   "outputs": [],
   "source": [
    "word=word.replace('khaled ',' ')"
   ]
  },
  {
   "cell_type": "code",
   "execution_count": 756,
   "metadata": {},
   "outputs": [
    {
     "data": {
      "text/plain": [
       "' ammar ali'"
      ]
     },
     "execution_count": 756,
     "metadata": {},
     "output_type": "execute_result"
    }
   ],
   "source": [
    "word"
   ]
  },
  {
   "cell_type": "code",
   "execution_count": null,
   "metadata": {},
   "outputs": [],
   "source": []
  }
 ],
 "metadata": {
  "kernelspec": {
   "display_name": "Python 3",
   "language": "python",
   "name": "python3"
  },
  "language_info": {
   "codemirror_mode": {
    "name": "ipython",
    "version": 3
   },
   "file_extension": ".py",
   "mimetype": "text/x-python",
   "name": "python",
   "nbconvert_exporter": "python",
   "pygments_lexer": "ipython3",
   "version": "3.7.7"
  }
 },
 "nbformat": 4,
 "nbformat_minor": 4
}
