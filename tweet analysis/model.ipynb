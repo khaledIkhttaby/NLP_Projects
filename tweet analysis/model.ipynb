{
 "cells": [
  {
   "cell_type": "code",
   "execution_count": 9,
   "metadata": {
    "executionInfo": {
     "elapsed": 1116,
     "status": "ok",
     "timestamp": 1609054931531,
     "user": {
      "displayName": "خالد خطابي",
      "photoUrl": "",
      "userId": "09736998259587649509"
     },
     "user_tz": -120
    },
    "id": "Qc3AJ_SPHTao"
   },
   "outputs": [],
   "source": [
    "import nltk"
   ]
  },
  {
   "cell_type": "code",
   "execution_count": 10,
   "metadata": {
    "colab": {
     "base_uri": "https://localhost:8080/"
    },
    "executionInfo": {
     "elapsed": 1585,
     "status": "ok",
     "timestamp": 1609054932023,
     "user": {
      "displayName": "خالد خطابي",
      "photoUrl": "",
      "userId": "09736998259587649509"
     },
     "user_tz": -120
    },
    "id": "-dnYSYWOHbtD",
    "outputId": "513dde8f-cb6e-4b5c-95d1-c918c2265744"
   },
   "outputs": [
    {
     "name": "stdout",
     "output_type": "stream",
     "text": [
      "Drive already mounted at /content/drive; to attempt to forcibly remount, call drive.mount(\"/content/drive\", force_remount=True).\n"
     ]
    }
   ],
   "source": [
    "from google.colab import drive\n",
    "drive.mount('/content/drive')"
   ]
  },
  {
   "cell_type": "code",
   "execution_count": 11,
   "metadata": {
    "executionInfo": {
     "elapsed": 1577,
     "status": "ok",
     "timestamp": 1609054932024,
     "user": {
      "displayName": "خالد خطابي",
      "photoUrl": "",
      "userId": "09736998259587649509"
     },
     "user_tz": -120
    },
    "id": "7yRDv2C2HTa2"
   },
   "outputs": [],
   "source": [
    "from nltk.util import pad_sequence\n",
    "from nltk.util import bigrams\n",
    "from nltk.util import ngrams\n",
    "from nltk.util import everygrams\n",
    "\n",
    "from nltk import word_tokenize\n",
    "\n",
    "import pandas as pd \n",
    "\n",
    "import re\n",
    "from nltk.corpus import stopwords\n",
    "import nltk"
   ]
  },
  {
   "cell_type": "code",
   "execution_count": 12,
   "metadata": {
    "executionInfo": {
     "elapsed": 12938,
     "status": "ok",
     "timestamp": 1609054943398,
     "user": {
      "displayName": "خالد خطابي",
      "photoUrl": "",
      "userId": "09736998259587649509"
     },
     "user_tz": -120
    },
    "id": "m-RQTjIxHTa6"
   },
   "outputs": [],
   "source": [
    "CovidAllTweets = list(Covide_data['OriginalTweet'].apply(word_tokenize))"
   ]
  },
  {
   "cell_type": "code",
   "execution_count": 13,
   "metadata": {
    "colab": {
     "base_uri": "https://localhost:8080/"
    },
    "executionInfo": {
     "elapsed": 12941,
     "status": "ok",
     "timestamp": 1609054943411,
     "user": {
      "displayName": "خالد خطابي",
      "photoUrl": "",
      "userId": "09736998259587649509"
     },
     "user_tz": -120
    },
    "id": "OUmiQ_xkH9ue",
    "outputId": "dffd9e07-2350-446e-b2dc-51e8ba274f4f"
   },
   "outputs": [
    {
     "name": "stdout",
     "output_type": "stream",
     "text": [
      "[nltk_data] Downloading package stopwords to /root/nltk_data...\n",
      "[nltk_data]   Package stopwords is already up-to-date!\n"
     ]
    },
    {
     "data": {
      "text/plain": [
       "True"
      ]
     },
     "execution_count": 13,
     "metadata": {
      "tags": []
     },
     "output_type": "execute_result"
    }
   ],
   "source": [
    "import nltk\n",
    "nltk.download('stopwords')"
   ]
  },
  {
   "cell_type": "code",
   "execution_count": 14,
   "metadata": {
    "colab": {
     "base_uri": "https://localhost:8080/",
     "height": 285
    },
    "executionInfo": {
     "elapsed": 12935,
     "status": "ok",
     "timestamp": 1609054943414,
     "user": {
      "displayName": "خالد خطابي",
      "photoUrl": "",
      "userId": "09736998259587649509"
     },
     "user_tz": -120
    },
    "id": "PxFqganxHTa4",
    "outputId": "a202c686-2518-4940-95d4-3811bb4bed00"
   },
   "outputs": [
    {
     "data": {
      "text/html": [
       "<div>\n",
       "<style scoped>\n",
       "    .dataframe tbody tr th:only-of-type {\n",
       "        vertical-align: middle;\n",
       "    }\n",
       "\n",
       "    .dataframe tbody tr th {\n",
       "        vertical-align: top;\n",
       "    }\n",
       "\n",
       "    .dataframe thead th {\n",
       "        text-align: right;\n",
       "    }\n",
       "</style>\n",
       "<table border=\"1\" class=\"dataframe\">\n",
       "  <thead>\n",
       "    <tr style=\"text-align: right;\">\n",
       "      <th></th>\n",
       "      <th>UserName</th>\n",
       "      <th>ScreenName</th>\n",
       "      <th>Location</th>\n",
       "      <th>TweetAt</th>\n",
       "      <th>OriginalTweet</th>\n",
       "      <th>Sentiment</th>\n",
       "    </tr>\n",
       "  </thead>\n",
       "  <tbody>\n",
       "    <tr>\n",
       "      <th>0</th>\n",
       "      <td>3799</td>\n",
       "      <td>48751</td>\n",
       "      <td>London</td>\n",
       "      <td>16-03-2020</td>\n",
       "      <td>@MeNyrbie @Phil_Gahan @Chrisitv https://t.co/i...</td>\n",
       "      <td>Neutral</td>\n",
       "    </tr>\n",
       "    <tr>\n",
       "      <th>1</th>\n",
       "      <td>3800</td>\n",
       "      <td>48752</td>\n",
       "      <td>UK</td>\n",
       "      <td>16-03-2020</td>\n",
       "      <td>advice Talk to your neighbours family to excha...</td>\n",
       "      <td>Positive</td>\n",
       "    </tr>\n",
       "    <tr>\n",
       "      <th>2</th>\n",
       "      <td>3801</td>\n",
       "      <td>48753</td>\n",
       "      <td>Vagabonds</td>\n",
       "      <td>16-03-2020</td>\n",
       "      <td>Coronavirus Australia: Woolworths to give elde...</td>\n",
       "      <td>Positive</td>\n",
       "    </tr>\n",
       "    <tr>\n",
       "      <th>3</th>\n",
       "      <td>3802</td>\n",
       "      <td>48754</td>\n",
       "      <td>NaN</td>\n",
       "      <td>16-03-2020</td>\n",
       "      <td>My food stock is not the only one which is emp...</td>\n",
       "      <td>Positive</td>\n",
       "    </tr>\n",
       "    <tr>\n",
       "      <th>4</th>\n",
       "      <td>3803</td>\n",
       "      <td>48755</td>\n",
       "      <td>NaN</td>\n",
       "      <td>16-03-2020</td>\n",
       "      <td>Me, ready to go at supermarket during the #COV...</td>\n",
       "      <td>Extremely Negative</td>\n",
       "    </tr>\n",
       "  </tbody>\n",
       "</table>\n",
       "</div>"
      ],
      "text/plain": [
       "   UserName  ...           Sentiment\n",
       "0      3799  ...             Neutral\n",
       "1      3800  ...            Positive\n",
       "2      3801  ...            Positive\n",
       "3      3802  ...            Positive\n",
       "4      3803  ...  Extremely Negative\n",
       "\n",
       "[5 rows x 6 columns]"
      ]
     },
     "execution_count": 14,
     "metadata": {
      "tags": []
     },
     "output_type": "execute_result"
    }
   ],
   "source": [
    "Covide_data = pd.read_csv('/content/drive/MyDrive/hadi/Covid_19_tweets_train.csv',encoding=\"latin1\")\n",
    "#Covide_data=Covide_data.dropna()\n",
    "Covide_data.head()"
   ]
  },
  {
   "cell_type": "code",
   "execution_count": 15,
   "metadata": {
    "executionInfo": {
     "elapsed": 12926,
     "status": "ok",
     "timestamp": 1609054943416,
     "user": {
      "displayName": "خالد خطابي",
      "photoUrl": "",
      "userId": "09736998259587649509"
     },
     "user_tz": -120
    },
    "id": "hyT8aobLHTa6"
   },
   "outputs": [],
   "source": [
    "from sklearn.feature_extraction.text import CountVectorizer\n",
    "from sklearn.model_selection import train_test_split\n",
    "from sklearn.linear_model import SGDClassifier,RidgeClassifier,MultiTaskLasso\n",
    "from sklearn.naive_bayes import MultinomialNB\n",
    "from sklearn.naive_bayes import BernoulliNB\n",
    "from sklearn.svm import NuSVC"
   ]
  },
  {
   "cell_type": "code",
   "execution_count": 55,
   "metadata": {
    "executionInfo": {
     "elapsed": 760,
     "status": "ok",
     "timestamp": 1609058414979,
     "user": {
      "displayName": "خالد خطابي",
      "photoUrl": "",
      "userId": "09736998259587649509"
     },
     "user_tz": -120
    },
    "id": "S9i6_heaHTa7"
   },
   "outputs": [],
   "source": [
    "stop_words=stopwords.words('english')\n",
    "\n",
    "def tweets_vanish(all_tweet):\n",
    "    tweets=all_tweet.map(lambda x :x.lower())\n",
    "    tweets=tweets.map(lambda x:re.sub(r'([^a-z])|(http\\S+)',' ',x))\n",
    "    tweets =tweets.map(lambda tweet: ' '.join([word for word in tweet.lower().split() if word not in stop_words and len(word)>1]))\n",
    "    return tweets"
   ]
  },
  {
   "cell_type": "code",
   "execution_count": 56,
   "metadata": {
    "executionInfo": {
     "elapsed": 3369,
     "status": "ok",
     "timestamp": 1609058419000,
     "user": {
      "displayName": "خالد خطابي",
      "photoUrl": "",
      "userId": "09736998259587649509"
     },
     "user_tz": -120
    },
    "id": "LRI2CSvkHTa7"
   },
   "outputs": [],
   "source": [
    "Cleaning_tweets = tweets_vanish(Covide_data['OriginalTweet'])"
   ]
  },
  {
   "cell_type": "code",
   "execution_count": 57,
   "metadata": {
    "executionInfo": {
     "elapsed": 1362,
     "status": "ok",
     "timestamp": 1609058421043,
     "user": {
      "displayName": "خالد خطابي",
      "photoUrl": "",
      "userId": "09736998259587649509"
     },
     "user_tz": -120
    },
    "id": "4_X7XgoqHTa7"
   },
   "outputs": [],
   "source": [
    "Covid_train, Covid_test, y_train, y_test = train_test_split(Cleaning_tweets, Covide_data['Sentiment'], test_size=0.25, random_state=1000)"
   ]
  },
  {
   "cell_type": "code",
   "execution_count": 58,
   "metadata": {
    "colab": {
     "base_uri": "https://localhost:8080/"
    },
    "executionInfo": {
     "elapsed": 680,
     "status": "ok",
     "timestamp": 1609058422304,
     "user": {
      "displayName": "خالد خطابي",
      "photoUrl": "",
      "userId": "09736998259587649509"
     },
     "user_tz": -120
    },
    "id": "19JhTigbHTa8",
    "outputId": "084e6f56-7af1-43ad-951e-91411493ec9c"
   },
   "outputs": [
    {
     "data": {
      "text/plain": [
       "18698              Negative\n",
       "26797    Extremely Negative\n",
       "37956              Positive\n",
       "18927    Extremely Positive\n",
       "34119               Neutral\n",
       "                ...        \n",
       "33537    Extremely Positive\n",
       "18782              Negative\n",
       "3776     Extremely Negative\n",
       "6215     Extremely Positive\n",
       "4695     Extremely Negative\n",
       "Name: Sentiment, Length: 30867, dtype: object"
      ]
     },
     "execution_count": 58,
     "metadata": {
      "tags": []
     },
     "output_type": "execute_result"
    }
   ],
   "source": [
    "y_train"
   ]
  },
  {
   "cell_type": "code",
   "execution_count": 59,
   "metadata": {
    "executionInfo": {
     "elapsed": 1122,
     "status": "ok",
     "timestamp": 1609058423913,
     "user": {
      "displayName": "خالد خطابي",
      "photoUrl": "",
      "userId": "09736998259587649509"
     },
     "user_tz": -120
    },
    "id": "yUgIVUM3HTa8"
   },
   "outputs": [],
   "source": [
    "from keras.models import Sequential\n",
    "from keras.layers import Dense\n",
    "from keras.layers import LSTM,Bidirectional\n",
    "from keras.layers import Dropout\n",
    "from keras.layers.embeddings import Embedding\n",
    "from keras.preprocessing import sequence\n",
    "import pandas as pd\n",
    "import numpy as np\n",
    "from keras.callbacks import EarlyStopping\n",
    "from keras.models import load_model\n",
    "from keras.preprocessing.text import Tokenizer"
   ]
  },
  {
   "cell_type": "code",
   "execution_count": 60,
   "metadata": {
    "executionInfo": {
     "elapsed": 1057,
     "status": "ok",
     "timestamp": 1609058424606,
     "user": {
      "displayName": "خالد خطابي",
      "photoUrl": "",
      "userId": "09736998259587649509"
     },
     "user_tz": -120
    },
    "id": "24sUscJeHTa9"
   },
   "outputs": [],
   "source": [
    "import gensim\n",
    "from gensim.models import Word2Vec\n",
    "import pandas as pd\n",
    "import numpy as np\n",
    "import scipy\n",
    "from gensim.test.utils import common_texts\n",
    "import numpy as np"
   ]
  },
  {
   "cell_type": "code",
   "execution_count": 61,
   "metadata": {
    "executionInfo": {
     "elapsed": 1082,
     "status": "ok",
     "timestamp": 1609058425237,
     "user": {
      "displayName": "خالد خطابي",
      "photoUrl": "",
      "userId": "09736998259587649509"
     },
     "user_tz": -120
    },
    "id": "hVLhkiuLHTa9"
   },
   "outputs": [],
   "source": [
    "types=['Negative','Extremely Negative','Extremely Positive','Neutral','Positive']"
   ]
  },
  {
   "cell_type": "code",
   "execution_count": 62,
   "metadata": {
    "executionInfo": {
     "elapsed": 888,
     "status": "ok",
     "timestamp": 1609058425762,
     "user": {
      "displayName": "خالد خطابي",
      "photoUrl": "",
      "userId": "09736998259587649509"
     },
     "user_tz": -120
    },
    "id": "o7gnLpsiHTa9"
   },
   "outputs": [],
   "source": [
    "types_one_hot_encoding=np.zeros((5, 5))\n",
    "\n",
    "for i in range(len(types)):\n",
    "    types_one_hot_encoding[i,i]=1"
   ]
  },
  {
   "cell_type": "code",
   "execution_count": 63,
   "metadata": {
    "executionInfo": {
     "elapsed": 1081,
     "status": "ok",
     "timestamp": 1609058427205,
     "user": {
      "displayName": "خالد خطابي",
      "photoUrl": "",
      "userId": "09736998259587649509"
     },
     "user_tz": -120
    },
    "id": "UuC_NNRkHTa-"
   },
   "outputs": [],
   "source": [
    "dic_type_one_hot_encoding={}\n",
    "for i in range(len(types)):\n",
    "    dic_type_one_hot_encoding[types[i]]=types_one_hot_encoding[i]"
   ]
  },
  {
   "cell_type": "code",
   "execution_count": 64,
   "metadata": {
    "executionInfo": {
     "elapsed": 1385,
     "status": "ok",
     "timestamp": 1609058428412,
     "user": {
      "displayName": "خالد خطابي",
      "photoUrl": "",
      "userId": "09736998259587649509"
     },
     "user_tz": -120
    },
    "id": "i94SaEEhHTa-"
   },
   "outputs": [],
   "source": [
    "indexing_types={}\n",
    "for i in range(len(types)):\n",
    "    indexing_types[types[i]]=i"
   ]
  },
  {
   "cell_type": "code",
   "execution_count": 65,
   "metadata": {
    "executionInfo": {
     "elapsed": 678,
     "status": "ok",
     "timestamp": 1609058428415,
     "user": {
      "displayName": "خالد خطابي",
      "photoUrl": "",
      "userId": "09736998259587649509"
     },
     "user_tz": -120
    },
    "id": "fGnxOmaVHTa-"
   },
   "outputs": [],
   "source": [
    "def get_feature_from_one_xtrain(sample):\n",
    "    result=[]\n",
    "    summ=0\n",
    "    \n",
    "    for word in sample.split():\n",
    "#         print(word)\n",
    "        summ+=1\n",
    "        try: \n",
    "#             feature=np.sum(model.wv[word])\n",
    "            result.append(model.wv[word])\n",
    "        except:\n",
    "            feature=0\n",
    "        if summ==50:\n",
    "            return result\n",
    "    return result"
   ]
  },
  {
   "cell_type": "code",
   "execution_count": 66,
   "metadata": {
    "executionInfo": {
     "elapsed": 868,
     "status": "ok",
     "timestamp": 1609058430125,
     "user": {
      "displayName": "خالد خطابي",
      "photoUrl": "",
      "userId": "09736998259587649509"
     },
     "user_tz": -120
    },
    "id": "zM4DQJn-HTa_"
   },
   "outputs": [],
   "source": [
    "def get_feature_from_all_xtrain(samples):\n",
    "    res=[]\n",
    "    for sample in samples:\n",
    "        s=get_feature_from_one_xtrain(sample)\n",
    "\n",
    "        if(len(s)<50):\n",
    "            \n",
    "            for i in range(50-len(s)):\n",
    "                x=np.zeros(100,dtype=np.float64)\n",
    "                s.append(x)\n",
    "            \n",
    "#         x=np.zeros(20,dtype=np.float64)\n",
    "#         for i in range(20):\n",
    "#             if(i <len(s)):\n",
    "                \n",
    "#                 x[i]=s[i]\n",
    "        res.append(s)\n",
    "    return res"
   ]
  },
  {
   "cell_type": "code",
   "execution_count": 67,
   "metadata": {
    "executionInfo": {
     "elapsed": 1038,
     "status": "ok",
     "timestamp": 1609058430862,
     "user": {
      "displayName": "خالد خطابي",
      "photoUrl": "",
      "userId": "09736998259587649509"
     },
     "user_tz": -120
    },
    "id": "fPXsARCNHTa_"
   },
   "outputs": [],
   "source": [
    "# sentences=Cleaning_tweets\n",
    "# sentences=pd.Series(sentences)\n",
    "# sentences=sentences.apply(lambda x:str(x))\n",
    "# sentences=sentences.apply(lambda x:x.split(\" \"))"
   ]
  },
  {
   "cell_type": "code",
   "execution_count": 68,
   "metadata": {
    "executionInfo": {
     "elapsed": 947,
     "status": "ok",
     "timestamp": 1609058431350,
     "user": {
      "displayName": "خالد خطابي",
      "photoUrl": "",
      "userId": "09736998259587649509"
     },
     "user_tz": -120
    },
    "id": "cIUdgkpPHTa_"
   },
   "outputs": [],
   "source": [
    "# model = Word2Vec(sentences)"
   ]
  },
  {
   "cell_type": "code",
   "execution_count": 69,
   "metadata": {
    "executionInfo": {
     "elapsed": 1319,
     "status": "ok",
     "timestamp": 1609058433945,
     "user": {
      "displayName": "خالد خطابي",
      "photoUrl": "",
      "userId": "09736998259587649509"
     },
     "user_tz": -120
    },
    "id": "Hq9LY2KFHTbA"
   },
   "outputs": [],
   "source": [
    "# X_Train=get_feature_from_all_xtrain(Covid_train)\n",
    "Y_Train=[dic_type_one_hot_encoding[i] for i in y_train]"
   ]
  },
  {
   "cell_type": "code",
   "execution_count": 70,
   "metadata": {
    "executionInfo": {
     "elapsed": 787,
     "status": "ok",
     "timestamp": 1609058433947,
     "user": {
      "displayName": "خالد خطابي",
      "photoUrl": "",
      "userId": "09736998259587649509"
     },
     "user_tz": -120
    },
    "id": "CxfSUKz9HTbA"
   },
   "outputs": [],
   "source": [
    "Y_Test=[dic_type_one_hot_encoding[i] for i in y_test]"
   ]
  },
  {
   "cell_type": "code",
   "execution_count": 71,
   "metadata": {
    "executionInfo": {
     "elapsed": 1213,
     "status": "ok",
     "timestamp": 1609058435811,
     "user": {
      "displayName": "خالد خطابي",
      "photoUrl": "",
      "userId": "09736998259587649509"
     },
     "user_tz": -120
    },
    "id": "A9JRxkFZHTbA"
   },
   "outputs": [],
   "source": [
    "Y_Test=np.array(Y_Test)\n",
    "Y_Train=np.array(Y_Train)"
   ]
  },
  {
   "cell_type": "code",
   "execution_count": 72,
   "metadata": {
    "colab": {
     "base_uri": "https://localhost:8080/"
    },
    "executionInfo": {
     "elapsed": 835,
     "status": "ok",
     "timestamp": 1609058437119,
     "user": {
      "displayName": "خالد خطابي",
      "photoUrl": "",
      "userId": "09736998259587649509"
     },
     "user_tz": -120
    },
    "id": "N1sfaz7cHTbA",
    "outputId": "529f9cc8-91c6-4811-e38b-11e694c307a3"
   },
   "outputs": [
    {
     "name": "stdout",
     "output_type": "stream",
     "text": [
      "(10290, 5)\n",
      "(30867, 5)\n"
     ]
    }
   ],
   "source": [
    "\n",
    "print(Y_Test.shape)\n",
    "print(Y_Train.shape)"
   ]
  },
  {
   "cell_type": "code",
   "execution_count": 73,
   "metadata": {
    "executionInfo": {
     "elapsed": 1166,
     "status": "ok",
     "timestamp": 1609058440353,
     "user": {
      "displayName": "خالد خطابي",
      "photoUrl": "",
      "userId": "09736998259587649509"
     },
     "user_tz": -120
    },
    "id": "BYzFLFSQHTbB"
   },
   "outputs": [],
   "source": [
    "# model_train=Sequential()\n",
    "# model_train.add(Bidirectional(LSTM(units=128, input_shape=(50,100), activation=\"relu\")))\n",
    "# model_train.add(Dense(units=10, activation='tanh'))\n",
    "# model_train.add(Dense(units=28, activation='relu'))\n",
    "# model_train.add(Dense(units=5, activation='softmax'))\n",
    "# model_train.compile(loss='categorical_crossentropy', optimizer=\"adam\",metrics=['acc'])"
   ]
  },
  {
   "cell_type": "code",
   "execution_count": 74,
   "metadata": {
    "executionInfo": {
     "elapsed": 695,
     "status": "ok",
     "timestamp": 1609058440822,
     "user": {
      "displayName": "خالد خطابي",
      "photoUrl": "",
      "userId": "09736998259587649509"
     },
     "user_tz": -120
    },
    "id": "OJl9whb7HTbB"
   },
   "outputs": [],
   "source": [
    "# model_train.fit(X_Train,Y_Train,epochs=20,validation_split=0.2,callbacks=[EarlyStopping('val_loss',patience=0)],batch_size=256)"
   ]
  },
  {
   "cell_type": "code",
   "execution_count": 74,
   "metadata": {
    "executionInfo": {
     "elapsed": 632,
     "status": "ok",
     "timestamp": 1609058442232,
     "user": {
      "displayName": "خالد خطابي",
      "photoUrl": "",
      "userId": "09736998259587649509"
     },
     "user_tz": -120
    },
    "id": "j_YvOYz6HTbC"
   },
   "outputs": [],
   "source": []
  },
  {
   "cell_type": "code",
   "execution_count": 75,
   "metadata": {
    "executionInfo": {
     "elapsed": 531,
     "status": "ok",
     "timestamp": 1609058442945,
     "user": {
      "displayName": "خالد خطابي",
      "photoUrl": "",
      "userId": "09736998259587649509"
     },
     "user_tz": -120
    },
    "id": "ASXZBM4vHTbC"
   },
   "outputs": [],
   "source": [
    "import pandas as pd\n",
    "import numpy as np\n",
    "import matplotlib.pyplot as plt\n",
    "import tensorflow as tf \n",
    "from sklearn.model_selection import train_test_split\n",
    "from tensorflow.keras.preprocessing.text import Tokenizer\n",
    "from tensorflow.keras.preprocessing.sequence import pad_sequences\n",
    "from tensorflow.keras.models import Sequential\n",
    "from tensorflow.keras import layers\n"
   ]
  },
  {
   "cell_type": "code",
   "execution_count": 75,
   "metadata": {
    "executionInfo": {
     "elapsed": 804,
     "status": "ok",
     "timestamp": 1609058444009,
     "user": {
      "displayName": "خالد خطابي",
      "photoUrl": "",
      "userId": "09736998259587649509"
     },
     "user_tz": -120
    },
    "id": "pB-asL27HTbC"
   },
   "outputs": [],
   "source": []
  },
  {
   "cell_type": "code",
   "execution_count": 76,
   "metadata": {
    "executionInfo": {
     "elapsed": 1640,
     "status": "ok",
     "timestamp": 1609058445563,
     "user": {
      "displayName": "خالد خطابي",
      "photoUrl": "",
      "userId": "09736998259587649509"
     },
     "user_tz": -120
    },
    "id": "fieCMFXFHTbC"
   },
   "outputs": [],
   "source": [
    "maxlen=100\n",
    "tokenizer = Tokenizer(num_words=5000)\n",
    "tokenizer.fit_on_texts(Covid_train)\n",
    "X_train = tokenizer.texts_to_sequences(Covid_train)\n",
    "X_test = tokenizer.texts_to_sequences(Covid_test)\n",
    "\n",
    "    # Adding 1 because of reserved 0 index\n",
    "vocab_size = len(tokenizer.word_index) + 1\n",
    "\n",
    "    # Pad sequences with zeros\n",
    "X_train = pad_sequences(X_train, padding='post', maxlen=maxlen)\n",
    "X_test = pad_sequences(X_test, padding='post', maxlen=maxlen)\n"
   ]
  },
  {
   "cell_type": "code",
   "execution_count": 76,
   "metadata": {
    "executionInfo": {
     "elapsed": 1241,
     "status": "ok",
     "timestamp": 1609058454223,
     "user": {
      "displayName": "خالد خطابي",
      "photoUrl": "",
      "userId": "09736998259587649509"
     },
     "user_tz": -120
    },
    "id": "ZdJvesfSHTbD"
   },
   "outputs": [],
   "source": []
  },
  {
   "cell_type": "code",
   "execution_count": 76,
   "metadata": {
    "executionInfo": {
     "elapsed": 1357,
     "status": "ok",
     "timestamp": 1609058455881,
     "user": {
      "displayName": "خالد خطابي",
      "photoUrl": "",
      "userId": "09736998259587649509"
     },
     "user_tz": -120
    },
    "id": "HZQWJLTQHTbD"
   },
   "outputs": [],
   "source": []
  },
  {
   "cell_type": "code",
   "execution_count": 77,
   "metadata": {
    "executionInfo": {
     "elapsed": 1636,
     "status": "ok",
     "timestamp": 1609058457424,
     "user": {
      "displayName": "خالد خطابي",
      "photoUrl": "",
      "userId": "09736998259587649509"
     },
     "user_tz": -120
    },
    "id": "rZiM8rm6HTbD"
   },
   "outputs": [],
   "source": [
    "def create_model(num_filters, kernel_size, vocab_size, embedding_dim, maxlen):\n",
    "    model = Sequential()\n",
    "    model.add(layers.Embedding(vocab_size, embedding_dim, input_length=maxlen))\n",
    "    model.add(layers.Bidirectional(layers.LSTM(128,return_sequences=True)))\n",
    "    model.add(layers.Conv1D(num_filters, kernel_size, activation='relu'))\n",
    "    model.add(layers.GlobalMaxPooling1D())\n",
    "    model.add(layers.Dense(10, activation='relu'))\n",
    "    model.add(layers.Dense(5, activation='softmax'))\n",
    "    model.compile(optimizer='adam',\n",
    "                  loss='categorical_crossentropy',\n",
    "                  metrics=['accuracy'])\n",
    "    return model"
   ]
  },
  {
   "cell_type": "code",
   "execution_count": 78,
   "metadata": {
    "executionInfo": {
     "elapsed": 1332,
     "status": "ok",
     "timestamp": 1609058458100,
     "user": {
      "displayName": "خالد خطابي",
      "photoUrl": "",
      "userId": "09736998259587649509"
     },
     "user_tz": -120
    },
    "id": "TpVTBeY1HTbD"
   },
   "outputs": [],
   "source": [
    "param_grid = dict(num_filters=[32, 64, 128],\n",
    "                  kernel_size=[3, 5, 7],\n",
    "                  vocab_size=[10000], \n",
    "                  embedding_dim=[50,100,300],\n",
    "                  maxlen=[100])"
   ]
  },
  {
   "cell_type": "code",
   "execution_count": 79,
   "metadata": {
    "executionInfo": {
     "elapsed": 957,
     "status": "ok",
     "timestamp": 1609058458647,
     "user": {
      "displayName": "خالد خطابي",
      "photoUrl": "",
      "userId": "09736998259587649509"
     },
     "user_tz": -120
    },
    "id": "Y4o6K9I2HTbE"
   },
   "outputs": [],
   "source": [
    "from keras.wrappers.scikit_learn import KerasClassifier\n",
    "from sklearn.model_selection import RandomizedSearchCV"
   ]
  },
  {
   "cell_type": "code",
   "execution_count": 80,
   "metadata": {
    "colab": {
     "base_uri": "https://localhost:8080/",
     "height": 1000
    },
    "executionInfo": {
     "elapsed": 1755945,
     "status": "error",
     "timestamp": 1609060215533,
     "user": {
      "displayName": "خالد خطابي",
      "photoUrl": "",
      "userId": "09736998259587649509"
     },
     "user_tz": -120
    },
    "id": "nzmzzyEQHTbF",
    "outputId": "66f30a7a-ca0d-47bf-a218-d0c19328a954"
   },
   "outputs": [
    {
     "name": "stdout",
     "output_type": "stream",
     "text": [
      "Fitting 4 folds for each of 8 candidates, totalling 32 fits\n"
     ]
    },
    {
     "name": "stderr",
     "output_type": "stream",
     "text": [
      "[Parallel(n_jobs=1)]: Using backend SequentialBackend with 1 concurrent workers.\n"
     ]
    },
    {
     "name": "stdout",
     "output_type": "stream",
     "text": [
      "Epoch 1/4\n",
      "1447/1447 [==============================] - 30s 19ms/step - loss: 1.3848 - accuracy: 0.3916\n",
      "Epoch 2/4\n",
      "1447/1447 [==============================] - 28s 19ms/step - loss: 0.7691 - accuracy: 0.7247\n",
      "Epoch 3/4\n",
      "1447/1447 [==============================] - 27s 19ms/step - loss: 0.6278 - accuracy: 0.7791\n",
      "Epoch 4/4\n",
      "1447/1447 [==============================] - 27s 19ms/step - loss: 0.5159 - accuracy: 0.8221\n",
      "483/483 [==============================] - 4s 6ms/step - loss: 0.8816 - accuracy: 0.7033\n",
      "Epoch 1/4\n",
      "1447/1447 [==============================] - 30s 19ms/step - loss: 1.4322 - accuracy: 0.3513\n",
      "Epoch 2/4\n",
      "1447/1447 [==============================] - 27s 19ms/step - loss: 0.7623 - accuracy: 0.7264\n",
      "Epoch 3/4\n",
      "1447/1447 [==============================] - 27s 19ms/step - loss: 0.6036 - accuracy: 0.7925\n",
      "Epoch 4/4\n",
      "1447/1447 [==============================] - 28s 19ms/step - loss: 0.4641 - accuracy: 0.8465\n",
      "483/483 [==============================] - 4s 6ms/step - loss: 0.9392 - accuracy: 0.6877\n",
      "Epoch 1/4\n",
      "1447/1447 [==============================] - 29s 18ms/step - loss: 1.3805 - accuracy: 0.3892\n",
      "Epoch 2/4\n",
      "1447/1447 [==============================] - 27s 18ms/step - loss: 0.7596 - accuracy: 0.7283\n",
      "Epoch 3/4\n",
      "1447/1447 [==============================] - 26s 18ms/step - loss: 0.6054 - accuracy: 0.7918\n",
      "Epoch 4/4\n",
      "1447/1447 [==============================] - 26s 18ms/step - loss: 0.5075 - accuracy: 0.8276\n",
      "483/483 [==============================] - 4s 6ms/step - loss: 0.9177 - accuracy: 0.6994\n",
      "Epoch 1/4\n",
      "1447/1447 [==============================] - 30s 19ms/step - loss: 1.3975 - accuracy: 0.3780\n",
      "Epoch 2/4\n",
      "1447/1447 [==============================] - 27s 19ms/step - loss: 0.7733 - accuracy: 0.7251\n",
      "Epoch 3/4\n",
      "1447/1447 [==============================] - 28s 19ms/step - loss: 0.6235 - accuracy: 0.7823\n",
      "Epoch 4/4\n",
      "1447/1447 [==============================] - 27s 19ms/step - loss: 0.4976 - accuracy: 0.8279\n",
      "483/483 [==============================] - 3s 6ms/step - loss: 0.8749 - accuracy: 0.7066\n",
      "Epoch 1/4\n",
      "1447/1447 [==============================] - 24s 15ms/step - loss: 1.2743 - accuracy: 0.4544\n",
      "Epoch 2/4\n",
      "1447/1447 [==============================] - 21s 14ms/step - loss: 0.7625 - accuracy: 0.7281\n",
      "Epoch 3/4\n",
      "1447/1447 [==============================] - 21s 15ms/step - loss: 0.6378 - accuracy: 0.7785\n",
      "Epoch 4/4\n",
      "1447/1447 [==============================] - 21s 14ms/step - loss: 0.5246 - accuracy: 0.8192\n",
      "483/483 [==============================] - 4s 6ms/step - loss: 0.8952 - accuracy: 0.7014\n",
      "Epoch 1/4\n",
      "1447/1447 [==============================] - 24s 15ms/step - loss: 1.3421 - accuracy: 0.4090\n",
      "Epoch 2/4\n",
      "1447/1447 [==============================] - 20s 14ms/step - loss: 0.7578 - accuracy: 0.7301\n",
      "Epoch 3/4\n",
      "1447/1447 [==============================] - 21s 14ms/step - loss: 0.6090 - accuracy: 0.7863\n",
      "Epoch 4/4\n",
      "1447/1447 [==============================] - 21s 14ms/step - loss: 0.4826 - accuracy: 0.8320\n",
      "483/483 [==============================] - 4s 6ms/step - loss: 0.9411 - accuracy: 0.6823\n",
      "Epoch 1/4\n",
      "1447/1447 [==============================] - 24s 15ms/step - loss: 1.3144 - accuracy: 0.4327\n",
      "Epoch 2/4\n",
      "1447/1447 [==============================] - 21s 14ms/step - loss: 0.7548 - accuracy: 0.7272\n",
      "Epoch 3/4\n",
      "1447/1447 [==============================] - 21s 14ms/step - loss: 0.6341 - accuracy: 0.7750\n",
      "Epoch 4/4\n",
      "1447/1447 [==============================] - 21s 14ms/step - loss: 0.5124 - accuracy: 0.8227\n",
      "483/483 [==============================] - 4s 6ms/step - loss: 0.8911 - accuracy: 0.6903\n",
      "Epoch 1/4\n",
      "1447/1447 [==============================] - 24s 15ms/step - loss: 1.4340 - accuracy: 0.3551\n",
      "Epoch 2/4\n",
      "1447/1447 [==============================] - 21s 15ms/step - loss: 0.8132 - accuracy: 0.7016\n",
      "Epoch 3/4\n",
      "1447/1447 [==============================] - 21s 14ms/step - loss: 0.6314 - accuracy: 0.7795\n",
      "Epoch 4/4\n",
      "1447/1447 [==============================] - 21s 15ms/step - loss: 0.5042 - accuracy: 0.8239\n",
      "483/483 [==============================] - 4s 6ms/step - loss: 0.8875 - accuracy: 0.7026\n",
      "Epoch 1/4\n",
      "1447/1447 [==============================] - 30s 19ms/step - loss: 1.3724 - accuracy: 0.3925\n",
      "Epoch 2/4\n",
      "1447/1447 [==============================] - 28s 19ms/step - loss: 0.7809 - accuracy: 0.7167\n",
      "Epoch 3/4\n",
      "1447/1447 [==============================] - 28s 19ms/step - loss: 0.6175 - accuracy: 0.7873\n",
      "Epoch 4/4\n",
      "1447/1447 [==============================] - 28s 19ms/step - loss: 0.4724 - accuracy: 0.8417\n",
      "483/483 [==============================] - 4s 6ms/step - loss: 0.8863 - accuracy: 0.6912\n",
      "Epoch 1/4\n",
      "1447/1447 [==============================] - 31s 19ms/step - loss: 1.2792 - accuracy: 0.4559\n",
      "Epoch 2/4\n",
      "1447/1447 [==============================] - 28s 19ms/step - loss: 0.7463 - accuracy: 0.7282\n",
      "Epoch 3/4\n",
      "1447/1447 [==============================] - 28s 20ms/step - loss: 0.5968 - accuracy: 0.7986\n",
      "Epoch 4/4\n",
      "1447/1447 [==============================] - 30s 21ms/step - loss: 0.4651 - accuracy: 0.8440\n",
      "483/483 [==============================] - 4s 6ms/step - loss: 0.9069 - accuracy: 0.6861\n",
      "Epoch 1/4\n",
      "1447/1447 [==============================] - 32s 20ms/step - loss: 1.2896 - accuracy: 0.4351\n",
      "Epoch 2/4\n",
      "1447/1447 [==============================] - 29s 20ms/step - loss: 0.7480 - accuracy: 0.7308\n",
      "Epoch 3/4\n",
      "1447/1447 [==============================] - 29s 20ms/step - loss: 0.6235 - accuracy: 0.7807\n",
      "Epoch 4/4\n",
      "1447/1447 [==============================] - 29s 20ms/step - loss: 0.4966 - accuracy: 0.8338\n",
      "483/483 [==============================] - 4s 6ms/step - loss: 0.8651 - accuracy: 0.7017\n",
      "Epoch 1/4\n",
      "1447/1447 [==============================] - 32s 20ms/step - loss: 1.3856 - accuracy: 0.3804\n",
      "Epoch 2/4\n",
      "1447/1447 [==============================] - 29s 20ms/step - loss: 0.7788 - accuracy: 0.7159\n",
      "Epoch 3/4\n",
      "1447/1447 [==============================] - 29s 20ms/step - loss: 0.6128 - accuracy: 0.7842\n",
      "Epoch 4/4\n",
      "1447/1447 [==============================] - 28s 20ms/step - loss: 0.4775 - accuracy: 0.8399\n",
      "483/483 [==============================] - 4s 6ms/step - loss: 0.8975 - accuracy: 0.6900\n",
      "Epoch 1/4\n",
      "1447/1447 [==============================] - 25s 16ms/step - loss: 1.3057 - accuracy: 0.4265\n",
      "Epoch 2/4\n",
      "1447/1447 [==============================] - 22s 15ms/step - loss: 0.7685 - accuracy: 0.7210\n",
      "Epoch 3/4\n",
      "1447/1447 [==============================] - 23s 16ms/step - loss: 0.6407 - accuracy: 0.7750\n",
      "Epoch 4/4\n",
      "1447/1447 [==============================] - 23s 16ms/step - loss: 0.5255 - accuracy: 0.8246\n",
      "483/483 [==============================] - 4s 6ms/step - loss: 0.8957 - accuracy: 0.6977\n",
      "Epoch 1/4\n",
      "1447/1447 [==============================] - 26s 16ms/step - loss: 1.5892 - accuracy: 0.2755\n",
      "Epoch 2/4\n",
      "1447/1447 [==============================] - 22s 15ms/step - loss: 1.4371 - accuracy: 0.3572\n",
      "Epoch 3/4\n",
      "1447/1447 [==============================] - 22s 15ms/step - loss: 0.8181 - accuracy: 0.7057\n",
      "Epoch 4/4\n",
      "1447/1447 [==============================] - 22s 15ms/step - loss: 0.6366 - accuracy: 0.7870\n",
      "483/483 [==============================] - 4s 6ms/step - loss: 0.8543 - accuracy: 0.7018\n",
      "Epoch 1/4\n",
      "1447/1447 [==============================] - 25s 15ms/step - loss: 1.3254 - accuracy: 0.4222\n",
      "Epoch 2/4\n",
      "1447/1447 [==============================] - 22s 15ms/step - loss: 0.7738 - accuracy: 0.7210\n",
      "Epoch 3/4\n",
      "1447/1447 [==============================] - 22s 15ms/step - loss: 0.6214 - accuracy: 0.7846\n",
      "Epoch 4/4\n",
      "1447/1447 [==============================] - 22s 15ms/step - loss: 0.4995 - accuracy: 0.8297\n",
      "483/483 [==============================] - 4s 6ms/step - loss: 0.9367 - accuracy: 0.6847\n",
      "Epoch 1/4\n",
      "1447/1447 [==============================] - 25s 15ms/step - loss: 1.2845 - accuracy: 0.4438\n",
      "Epoch 2/4\n",
      "1447/1447 [==============================] - 22s 15ms/step - loss: 0.7621 - accuracy: 0.7263\n",
      "Epoch 3/4\n",
      "1447/1447 [==============================] - 21s 15ms/step - loss: 0.6308 - accuracy: 0.7825\n",
      "Epoch 4/4\n",
      "1447/1447 [==============================] - 23s 16ms/step - loss: 0.5161 - accuracy: 0.8236\n",
      "483/483 [==============================] - 4s 6ms/step - loss: 0.8765 - accuracy: 0.7026\n",
      "Epoch 1/4\n",
      "1447/1447 [==============================] - 25s 16ms/step - loss: 1.3654 - accuracy: 0.4060\n",
      "Epoch 2/4\n",
      "1447/1447 [==============================] - 23s 16ms/step - loss: 0.7784 - accuracy: 0.7161\n",
      "Epoch 3/4\n",
      " 947/1447 [==================>...........] - ETA: 7s - loss: 0.6475 - accuracy: 0.7745"
     ]
    },
    {
     "ename": "KeyboardInterrupt",
     "evalue": "ignored",
     "output_type": "error",
     "traceback": [
      "\u001b[0;31m---------------------------------------------------------------------------\u001b[0m",
      "\u001b[0;31mKeyboardInterrupt\u001b[0m                         Traceback (most recent call last)",
      "\u001b[0;32m<ipython-input-80-c0ea760dda1a>\u001b[0m in \u001b[0;36m<module>\u001b[0;34m()\u001b[0m\n\u001b[1;32m      4\u001b[0m grid = RandomizedSearchCV(estimator=model, param_distributions=param_grid,\n\u001b[1;32m      5\u001b[0m                            cv=4, verbose=1, n_iter=8)\n\u001b[0;32m----> 6\u001b[0;31m \u001b[0mgrid_result\u001b[0m \u001b[0;34m=\u001b[0m \u001b[0mgrid\u001b[0m\u001b[0;34m.\u001b[0m\u001b[0mfit\u001b[0m\u001b[0;34m(\u001b[0m\u001b[0mX_train\u001b[0m\u001b[0;34m,\u001b[0m \u001b[0mY_Train\u001b[0m\u001b[0;34m)\u001b[0m\u001b[0;34m\u001b[0m\u001b[0;34m\u001b[0m\u001b[0m\n\u001b[0m\u001b[1;32m      7\u001b[0m \u001b[0;31m#  # Evaluate testing set\u001b[0m\u001b[0;34m\u001b[0m\u001b[0;34m\u001b[0m\u001b[0;34m\u001b[0m\u001b[0m\n\u001b[1;32m      8\u001b[0m \u001b[0mtest_accuracy\u001b[0m \u001b[0;34m=\u001b[0m \u001b[0mgrid\u001b[0m\u001b[0;34m.\u001b[0m\u001b[0mscore\u001b[0m\u001b[0;34m(\u001b[0m\u001b[0mX_test\u001b[0m\u001b[0;34m,\u001b[0m \u001b[0mY_test\u001b[0m\u001b[0;34m)\u001b[0m\u001b[0;34m\u001b[0m\u001b[0;34m\u001b[0m\u001b[0m\n",
      "\u001b[0;32m/usr/local/lib/python3.6/dist-packages/sklearn/model_selection/_search.py\u001b[0m in \u001b[0;36mfit\u001b[0;34m(self, X, y, groups, **fit_params)\u001b[0m\n\u001b[1;32m    708\u001b[0m                 \u001b[0;32mreturn\u001b[0m \u001b[0mresults\u001b[0m\u001b[0;34m\u001b[0m\u001b[0;34m\u001b[0m\u001b[0m\n\u001b[1;32m    709\u001b[0m \u001b[0;34m\u001b[0m\u001b[0m\n\u001b[0;32m--> 710\u001b[0;31m             \u001b[0mself\u001b[0m\u001b[0;34m.\u001b[0m\u001b[0m_run_search\u001b[0m\u001b[0;34m(\u001b[0m\u001b[0mevaluate_candidates\u001b[0m\u001b[0;34m)\u001b[0m\u001b[0;34m\u001b[0m\u001b[0;34m\u001b[0m\u001b[0m\n\u001b[0m\u001b[1;32m    711\u001b[0m \u001b[0;34m\u001b[0m\u001b[0m\n\u001b[1;32m    712\u001b[0m         \u001b[0;31m# For multi-metric evaluation, store the best_index_, best_params_ and\u001b[0m\u001b[0;34m\u001b[0m\u001b[0;34m\u001b[0m\u001b[0;34m\u001b[0m\u001b[0m\n",
      "\u001b[0;32m/usr/local/lib/python3.6/dist-packages/sklearn/model_selection/_search.py\u001b[0m in \u001b[0;36m_run_search\u001b[0;34m(self, evaluate_candidates)\u001b[0m\n\u001b[1;32m   1482\u001b[0m         evaluate_candidates(ParameterSampler(\n\u001b[1;32m   1483\u001b[0m             \u001b[0mself\u001b[0m\u001b[0;34m.\u001b[0m\u001b[0mparam_distributions\u001b[0m\u001b[0;34m,\u001b[0m \u001b[0mself\u001b[0m\u001b[0;34m.\u001b[0m\u001b[0mn_iter\u001b[0m\u001b[0;34m,\u001b[0m\u001b[0;34m\u001b[0m\u001b[0;34m\u001b[0m\u001b[0m\n\u001b[0;32m-> 1484\u001b[0;31m             random_state=self.random_state))\n\u001b[0m",
      "\u001b[0;32m/usr/local/lib/python3.6/dist-packages/sklearn/model_selection/_search.py\u001b[0m in \u001b[0;36mevaluate_candidates\u001b[0;34m(candidate_params)\u001b[0m\n\u001b[1;32m    687\u001b[0m                                \u001b[0;32mfor\u001b[0m \u001b[0mparameters\u001b[0m\u001b[0;34m,\u001b[0m \u001b[0;34m(\u001b[0m\u001b[0mtrain\u001b[0m\u001b[0;34m,\u001b[0m \u001b[0mtest\u001b[0m\u001b[0;34m)\u001b[0m\u001b[0;34m\u001b[0m\u001b[0;34m\u001b[0m\u001b[0m\n\u001b[1;32m    688\u001b[0m                                in product(candidate_params,\n\u001b[0;32m--> 689\u001b[0;31m                                           cv.split(X, y, groups)))\n\u001b[0m\u001b[1;32m    690\u001b[0m \u001b[0;34m\u001b[0m\u001b[0m\n\u001b[1;32m    691\u001b[0m                 \u001b[0;32mif\u001b[0m \u001b[0mlen\u001b[0m\u001b[0;34m(\u001b[0m\u001b[0mout\u001b[0m\u001b[0;34m)\u001b[0m \u001b[0;34m<\u001b[0m \u001b[0;36m1\u001b[0m\u001b[0;34m:\u001b[0m\u001b[0;34m\u001b[0m\u001b[0;34m\u001b[0m\u001b[0m\n",
      "\u001b[0;32m/usr/local/lib/python3.6/dist-packages/joblib/parallel.py\u001b[0m in \u001b[0;36m__call__\u001b[0;34m(self, iterable)\u001b[0m\n\u001b[1;32m   1042\u001b[0m                 \u001b[0mself\u001b[0m\u001b[0;34m.\u001b[0m\u001b[0m_iterating\u001b[0m \u001b[0;34m=\u001b[0m \u001b[0mself\u001b[0m\u001b[0;34m.\u001b[0m\u001b[0m_original_iterator\u001b[0m \u001b[0;32mis\u001b[0m \u001b[0;32mnot\u001b[0m \u001b[0;32mNone\u001b[0m\u001b[0;34m\u001b[0m\u001b[0;34m\u001b[0m\u001b[0m\n\u001b[1;32m   1043\u001b[0m \u001b[0;34m\u001b[0m\u001b[0m\n\u001b[0;32m-> 1044\u001b[0;31m             \u001b[0;32mwhile\u001b[0m \u001b[0mself\u001b[0m\u001b[0;34m.\u001b[0m\u001b[0mdispatch_one_batch\u001b[0m\u001b[0;34m(\u001b[0m\u001b[0miterator\u001b[0m\u001b[0;34m)\u001b[0m\u001b[0;34m:\u001b[0m\u001b[0;34m\u001b[0m\u001b[0;34m\u001b[0m\u001b[0m\n\u001b[0m\u001b[1;32m   1045\u001b[0m                 \u001b[0;32mpass\u001b[0m\u001b[0;34m\u001b[0m\u001b[0;34m\u001b[0m\u001b[0m\n\u001b[1;32m   1046\u001b[0m \u001b[0;34m\u001b[0m\u001b[0m\n",
      "\u001b[0;32m/usr/local/lib/python3.6/dist-packages/joblib/parallel.py\u001b[0m in \u001b[0;36mdispatch_one_batch\u001b[0;34m(self, iterator)\u001b[0m\n\u001b[1;32m    857\u001b[0m                 \u001b[0;32mreturn\u001b[0m \u001b[0;32mFalse\u001b[0m\u001b[0;34m\u001b[0m\u001b[0;34m\u001b[0m\u001b[0m\n\u001b[1;32m    858\u001b[0m             \u001b[0;32melse\u001b[0m\u001b[0;34m:\u001b[0m\u001b[0;34m\u001b[0m\u001b[0;34m\u001b[0m\u001b[0m\n\u001b[0;32m--> 859\u001b[0;31m                 \u001b[0mself\u001b[0m\u001b[0;34m.\u001b[0m\u001b[0m_dispatch\u001b[0m\u001b[0;34m(\u001b[0m\u001b[0mtasks\u001b[0m\u001b[0;34m)\u001b[0m\u001b[0;34m\u001b[0m\u001b[0;34m\u001b[0m\u001b[0m\n\u001b[0m\u001b[1;32m    860\u001b[0m                 \u001b[0;32mreturn\u001b[0m \u001b[0;32mTrue\u001b[0m\u001b[0;34m\u001b[0m\u001b[0;34m\u001b[0m\u001b[0m\n\u001b[1;32m    861\u001b[0m \u001b[0;34m\u001b[0m\u001b[0m\n",
      "\u001b[0;32m/usr/local/lib/python3.6/dist-packages/joblib/parallel.py\u001b[0m in \u001b[0;36m_dispatch\u001b[0;34m(self, batch)\u001b[0m\n\u001b[1;32m    775\u001b[0m         \u001b[0;32mwith\u001b[0m \u001b[0mself\u001b[0m\u001b[0;34m.\u001b[0m\u001b[0m_lock\u001b[0m\u001b[0;34m:\u001b[0m\u001b[0;34m\u001b[0m\u001b[0;34m\u001b[0m\u001b[0m\n\u001b[1;32m    776\u001b[0m             \u001b[0mjob_idx\u001b[0m \u001b[0;34m=\u001b[0m \u001b[0mlen\u001b[0m\u001b[0;34m(\u001b[0m\u001b[0mself\u001b[0m\u001b[0;34m.\u001b[0m\u001b[0m_jobs\u001b[0m\u001b[0;34m)\u001b[0m\u001b[0;34m\u001b[0m\u001b[0;34m\u001b[0m\u001b[0m\n\u001b[0;32m--> 777\u001b[0;31m             \u001b[0mjob\u001b[0m \u001b[0;34m=\u001b[0m \u001b[0mself\u001b[0m\u001b[0;34m.\u001b[0m\u001b[0m_backend\u001b[0m\u001b[0;34m.\u001b[0m\u001b[0mapply_async\u001b[0m\u001b[0;34m(\u001b[0m\u001b[0mbatch\u001b[0m\u001b[0;34m,\u001b[0m \u001b[0mcallback\u001b[0m\u001b[0;34m=\u001b[0m\u001b[0mcb\u001b[0m\u001b[0;34m)\u001b[0m\u001b[0;34m\u001b[0m\u001b[0;34m\u001b[0m\u001b[0m\n\u001b[0m\u001b[1;32m    778\u001b[0m             \u001b[0;31m# A job can complete so quickly than its callback is\u001b[0m\u001b[0;34m\u001b[0m\u001b[0;34m\u001b[0m\u001b[0;34m\u001b[0m\u001b[0m\n\u001b[1;32m    779\u001b[0m             \u001b[0;31m# called before we get here, causing self._jobs to\u001b[0m\u001b[0;34m\u001b[0m\u001b[0;34m\u001b[0m\u001b[0;34m\u001b[0m\u001b[0m\n",
      "\u001b[0;32m/usr/local/lib/python3.6/dist-packages/joblib/_parallel_backends.py\u001b[0m in \u001b[0;36mapply_async\u001b[0;34m(self, func, callback)\u001b[0m\n\u001b[1;32m    206\u001b[0m     \u001b[0;32mdef\u001b[0m \u001b[0mapply_async\u001b[0m\u001b[0;34m(\u001b[0m\u001b[0mself\u001b[0m\u001b[0;34m,\u001b[0m \u001b[0mfunc\u001b[0m\u001b[0;34m,\u001b[0m \u001b[0mcallback\u001b[0m\u001b[0;34m=\u001b[0m\u001b[0;32mNone\u001b[0m\u001b[0;34m)\u001b[0m\u001b[0;34m:\u001b[0m\u001b[0;34m\u001b[0m\u001b[0;34m\u001b[0m\u001b[0m\n\u001b[1;32m    207\u001b[0m         \u001b[0;34m\"\"\"Schedule a func to be run\"\"\"\u001b[0m\u001b[0;34m\u001b[0m\u001b[0;34m\u001b[0m\u001b[0m\n\u001b[0;32m--> 208\u001b[0;31m         \u001b[0mresult\u001b[0m \u001b[0;34m=\u001b[0m \u001b[0mImmediateResult\u001b[0m\u001b[0;34m(\u001b[0m\u001b[0mfunc\u001b[0m\u001b[0;34m)\u001b[0m\u001b[0;34m\u001b[0m\u001b[0;34m\u001b[0m\u001b[0m\n\u001b[0m\u001b[1;32m    209\u001b[0m         \u001b[0;32mif\u001b[0m \u001b[0mcallback\u001b[0m\u001b[0;34m:\u001b[0m\u001b[0;34m\u001b[0m\u001b[0;34m\u001b[0m\u001b[0m\n\u001b[1;32m    210\u001b[0m             \u001b[0mcallback\u001b[0m\u001b[0;34m(\u001b[0m\u001b[0mresult\u001b[0m\u001b[0;34m)\u001b[0m\u001b[0;34m\u001b[0m\u001b[0;34m\u001b[0m\u001b[0m\n",
      "\u001b[0;32m/usr/local/lib/python3.6/dist-packages/joblib/_parallel_backends.py\u001b[0m in \u001b[0;36m__init__\u001b[0;34m(self, batch)\u001b[0m\n\u001b[1;32m    570\u001b[0m         \u001b[0;31m# Don't delay the application, to avoid keeping the input\u001b[0m\u001b[0;34m\u001b[0m\u001b[0;34m\u001b[0m\u001b[0;34m\u001b[0m\u001b[0m\n\u001b[1;32m    571\u001b[0m         \u001b[0;31m# arguments in memory\u001b[0m\u001b[0;34m\u001b[0m\u001b[0;34m\u001b[0m\u001b[0;34m\u001b[0m\u001b[0m\n\u001b[0;32m--> 572\u001b[0;31m         \u001b[0mself\u001b[0m\u001b[0;34m.\u001b[0m\u001b[0mresults\u001b[0m \u001b[0;34m=\u001b[0m \u001b[0mbatch\u001b[0m\u001b[0;34m(\u001b[0m\u001b[0;34m)\u001b[0m\u001b[0;34m\u001b[0m\u001b[0;34m\u001b[0m\u001b[0m\n\u001b[0m\u001b[1;32m    573\u001b[0m \u001b[0;34m\u001b[0m\u001b[0m\n\u001b[1;32m    574\u001b[0m     \u001b[0;32mdef\u001b[0m \u001b[0mget\u001b[0m\u001b[0;34m(\u001b[0m\u001b[0mself\u001b[0m\u001b[0;34m)\u001b[0m\u001b[0;34m:\u001b[0m\u001b[0;34m\u001b[0m\u001b[0;34m\u001b[0m\u001b[0m\n",
      "\u001b[0;32m/usr/local/lib/python3.6/dist-packages/joblib/parallel.py\u001b[0m in \u001b[0;36m__call__\u001b[0;34m(self)\u001b[0m\n\u001b[1;32m    261\u001b[0m         \u001b[0;32mwith\u001b[0m \u001b[0mparallel_backend\u001b[0m\u001b[0;34m(\u001b[0m\u001b[0mself\u001b[0m\u001b[0;34m.\u001b[0m\u001b[0m_backend\u001b[0m\u001b[0;34m,\u001b[0m \u001b[0mn_jobs\u001b[0m\u001b[0;34m=\u001b[0m\u001b[0mself\u001b[0m\u001b[0;34m.\u001b[0m\u001b[0m_n_jobs\u001b[0m\u001b[0;34m)\u001b[0m\u001b[0;34m:\u001b[0m\u001b[0;34m\u001b[0m\u001b[0;34m\u001b[0m\u001b[0m\n\u001b[1;32m    262\u001b[0m             return [func(*args, **kwargs)\n\u001b[0;32m--> 263\u001b[0;31m                     for func, args, kwargs in self.items]\n\u001b[0m\u001b[1;32m    264\u001b[0m \u001b[0;34m\u001b[0m\u001b[0m\n\u001b[1;32m    265\u001b[0m     \u001b[0;32mdef\u001b[0m \u001b[0m__reduce__\u001b[0m\u001b[0;34m(\u001b[0m\u001b[0mself\u001b[0m\u001b[0;34m)\u001b[0m\u001b[0;34m:\u001b[0m\u001b[0;34m\u001b[0m\u001b[0;34m\u001b[0m\u001b[0m\n",
      "\u001b[0;32m/usr/local/lib/python3.6/dist-packages/joblib/parallel.py\u001b[0m in \u001b[0;36m<listcomp>\u001b[0;34m(.0)\u001b[0m\n\u001b[1;32m    261\u001b[0m         \u001b[0;32mwith\u001b[0m \u001b[0mparallel_backend\u001b[0m\u001b[0;34m(\u001b[0m\u001b[0mself\u001b[0m\u001b[0;34m.\u001b[0m\u001b[0m_backend\u001b[0m\u001b[0;34m,\u001b[0m \u001b[0mn_jobs\u001b[0m\u001b[0;34m=\u001b[0m\u001b[0mself\u001b[0m\u001b[0;34m.\u001b[0m\u001b[0m_n_jobs\u001b[0m\u001b[0;34m)\u001b[0m\u001b[0;34m:\u001b[0m\u001b[0;34m\u001b[0m\u001b[0;34m\u001b[0m\u001b[0m\n\u001b[1;32m    262\u001b[0m             return [func(*args, **kwargs)\n\u001b[0;32m--> 263\u001b[0;31m                     for func, args, kwargs in self.items]\n\u001b[0m\u001b[1;32m    264\u001b[0m \u001b[0;34m\u001b[0m\u001b[0m\n\u001b[1;32m    265\u001b[0m     \u001b[0;32mdef\u001b[0m \u001b[0m__reduce__\u001b[0m\u001b[0;34m(\u001b[0m\u001b[0mself\u001b[0m\u001b[0;34m)\u001b[0m\u001b[0;34m:\u001b[0m\u001b[0;34m\u001b[0m\u001b[0;34m\u001b[0m\u001b[0m\n",
      "\u001b[0;32m/usr/local/lib/python3.6/dist-packages/sklearn/model_selection/_validation.py\u001b[0m in \u001b[0;36m_fit_and_score\u001b[0;34m(estimator, X, y, scorer, train, test, verbose, parameters, fit_params, return_train_score, return_parameters, return_n_test_samples, return_times, return_estimator, error_score)\u001b[0m\n\u001b[1;32m    513\u001b[0m             \u001b[0mestimator\u001b[0m\u001b[0;34m.\u001b[0m\u001b[0mfit\u001b[0m\u001b[0;34m(\u001b[0m\u001b[0mX_train\u001b[0m\u001b[0;34m,\u001b[0m \u001b[0;34m**\u001b[0m\u001b[0mfit_params\u001b[0m\u001b[0;34m)\u001b[0m\u001b[0;34m\u001b[0m\u001b[0;34m\u001b[0m\u001b[0m\n\u001b[1;32m    514\u001b[0m         \u001b[0;32melse\u001b[0m\u001b[0;34m:\u001b[0m\u001b[0;34m\u001b[0m\u001b[0;34m\u001b[0m\u001b[0m\n\u001b[0;32m--> 515\u001b[0;31m             \u001b[0mestimator\u001b[0m\u001b[0;34m.\u001b[0m\u001b[0mfit\u001b[0m\u001b[0;34m(\u001b[0m\u001b[0mX_train\u001b[0m\u001b[0;34m,\u001b[0m \u001b[0my_train\u001b[0m\u001b[0;34m,\u001b[0m \u001b[0;34m**\u001b[0m\u001b[0mfit_params\u001b[0m\u001b[0;34m)\u001b[0m\u001b[0;34m\u001b[0m\u001b[0;34m\u001b[0m\u001b[0m\n\u001b[0m\u001b[1;32m    516\u001b[0m \u001b[0;34m\u001b[0m\u001b[0m\n\u001b[1;32m    517\u001b[0m     \u001b[0;32mexcept\u001b[0m \u001b[0mException\u001b[0m \u001b[0;32mas\u001b[0m \u001b[0me\u001b[0m\u001b[0;34m:\u001b[0m\u001b[0;34m\u001b[0m\u001b[0;34m\u001b[0m\u001b[0m\n",
      "\u001b[0;32m/usr/local/lib/python3.6/dist-packages/tensorflow/python/keras/wrappers/scikit_learn.py\u001b[0m in \u001b[0;36mfit\u001b[0;34m(self, x, y, **kwargs)\u001b[0m\n\u001b[1;32m    221\u001b[0m       \u001b[0;32mraise\u001b[0m \u001b[0mValueError\u001b[0m\u001b[0;34m(\u001b[0m\u001b[0;34m'Invalid shape for y: '\u001b[0m \u001b[0;34m+\u001b[0m \u001b[0mstr\u001b[0m\u001b[0;34m(\u001b[0m\u001b[0my\u001b[0m\u001b[0;34m.\u001b[0m\u001b[0mshape\u001b[0m\u001b[0;34m)\u001b[0m\u001b[0;34m)\u001b[0m\u001b[0;34m\u001b[0m\u001b[0;34m\u001b[0m\u001b[0m\n\u001b[1;32m    222\u001b[0m     \u001b[0mself\u001b[0m\u001b[0;34m.\u001b[0m\u001b[0mn_classes_\u001b[0m \u001b[0;34m=\u001b[0m \u001b[0mlen\u001b[0m\u001b[0;34m(\u001b[0m\u001b[0mself\u001b[0m\u001b[0;34m.\u001b[0m\u001b[0mclasses_\u001b[0m\u001b[0;34m)\u001b[0m\u001b[0;34m\u001b[0m\u001b[0;34m\u001b[0m\u001b[0m\n\u001b[0;32m--> 223\u001b[0;31m     \u001b[0;32mreturn\u001b[0m \u001b[0msuper\u001b[0m\u001b[0;34m(\u001b[0m\u001b[0mKerasClassifier\u001b[0m\u001b[0;34m,\u001b[0m \u001b[0mself\u001b[0m\u001b[0;34m)\u001b[0m\u001b[0;34m.\u001b[0m\u001b[0mfit\u001b[0m\u001b[0;34m(\u001b[0m\u001b[0mx\u001b[0m\u001b[0;34m,\u001b[0m \u001b[0my\u001b[0m\u001b[0;34m,\u001b[0m \u001b[0;34m**\u001b[0m\u001b[0mkwargs\u001b[0m\u001b[0;34m)\u001b[0m\u001b[0;34m\u001b[0m\u001b[0;34m\u001b[0m\u001b[0m\n\u001b[0m\u001b[1;32m    224\u001b[0m \u001b[0;34m\u001b[0m\u001b[0m\n\u001b[1;32m    225\u001b[0m   \u001b[0;32mdef\u001b[0m \u001b[0mpredict\u001b[0m\u001b[0;34m(\u001b[0m\u001b[0mself\u001b[0m\u001b[0;34m,\u001b[0m \u001b[0mx\u001b[0m\u001b[0;34m,\u001b[0m \u001b[0;34m**\u001b[0m\u001b[0mkwargs\u001b[0m\u001b[0;34m)\u001b[0m\u001b[0;34m:\u001b[0m\u001b[0;34m\u001b[0m\u001b[0;34m\u001b[0m\u001b[0m\n",
      "\u001b[0;32m/usr/local/lib/python3.6/dist-packages/tensorflow/python/keras/wrappers/scikit_learn.py\u001b[0m in \u001b[0;36mfit\u001b[0;34m(self, x, y, **kwargs)\u001b[0m\n\u001b[1;32m    164\u001b[0m     \u001b[0mfit_args\u001b[0m\u001b[0;34m.\u001b[0m\u001b[0mupdate\u001b[0m\u001b[0;34m(\u001b[0m\u001b[0mkwargs\u001b[0m\u001b[0;34m)\u001b[0m\u001b[0;34m\u001b[0m\u001b[0;34m\u001b[0m\u001b[0m\n\u001b[1;32m    165\u001b[0m \u001b[0;34m\u001b[0m\u001b[0m\n\u001b[0;32m--> 166\u001b[0;31m     \u001b[0mhistory\u001b[0m \u001b[0;34m=\u001b[0m \u001b[0mself\u001b[0m\u001b[0;34m.\u001b[0m\u001b[0mmodel\u001b[0m\u001b[0;34m.\u001b[0m\u001b[0mfit\u001b[0m\u001b[0;34m(\u001b[0m\u001b[0mx\u001b[0m\u001b[0;34m,\u001b[0m \u001b[0my\u001b[0m\u001b[0;34m,\u001b[0m \u001b[0;34m**\u001b[0m\u001b[0mfit_args\u001b[0m\u001b[0;34m)\u001b[0m\u001b[0;34m\u001b[0m\u001b[0;34m\u001b[0m\u001b[0m\n\u001b[0m\u001b[1;32m    167\u001b[0m \u001b[0;34m\u001b[0m\u001b[0m\n\u001b[1;32m    168\u001b[0m     \u001b[0;32mreturn\u001b[0m \u001b[0mhistory\u001b[0m\u001b[0;34m\u001b[0m\u001b[0;34m\u001b[0m\u001b[0m\n",
      "\u001b[0;32m/usr/local/lib/python3.6/dist-packages/tensorflow/python/keras/engine/training.py\u001b[0m in \u001b[0;36mfit\u001b[0;34m(self, x, y, batch_size, epochs, verbose, callbacks, validation_split, validation_data, shuffle, class_weight, sample_weight, initial_epoch, steps_per_epoch, validation_steps, validation_batch_size, validation_freq, max_queue_size, workers, use_multiprocessing)\u001b[0m\n\u001b[1;32m   1098\u001b[0m                 _r=1):\n\u001b[1;32m   1099\u001b[0m               \u001b[0mcallbacks\u001b[0m\u001b[0;34m.\u001b[0m\u001b[0mon_train_batch_begin\u001b[0m\u001b[0;34m(\u001b[0m\u001b[0mstep\u001b[0m\u001b[0;34m)\u001b[0m\u001b[0;34m\u001b[0m\u001b[0;34m\u001b[0m\u001b[0m\n\u001b[0;32m-> 1100\u001b[0;31m               \u001b[0mtmp_logs\u001b[0m \u001b[0;34m=\u001b[0m \u001b[0mself\u001b[0m\u001b[0;34m.\u001b[0m\u001b[0mtrain_function\u001b[0m\u001b[0;34m(\u001b[0m\u001b[0miterator\u001b[0m\u001b[0;34m)\u001b[0m\u001b[0;34m\u001b[0m\u001b[0;34m\u001b[0m\u001b[0m\n\u001b[0m\u001b[1;32m   1101\u001b[0m               \u001b[0;32mif\u001b[0m \u001b[0mdata_handler\u001b[0m\u001b[0;34m.\u001b[0m\u001b[0mshould_sync\u001b[0m\u001b[0;34m:\u001b[0m\u001b[0;34m\u001b[0m\u001b[0;34m\u001b[0m\u001b[0m\n\u001b[1;32m   1102\u001b[0m                 \u001b[0mcontext\u001b[0m\u001b[0;34m.\u001b[0m\u001b[0masync_wait\u001b[0m\u001b[0;34m(\u001b[0m\u001b[0;34m)\u001b[0m\u001b[0;34m\u001b[0m\u001b[0;34m\u001b[0m\u001b[0m\n",
      "\u001b[0;32m/usr/local/lib/python3.6/dist-packages/tensorflow/python/eager/def_function.py\u001b[0m in \u001b[0;36m__call__\u001b[0;34m(self, *args, **kwds)\u001b[0m\n\u001b[1;32m    826\u001b[0m     \u001b[0mtracing_count\u001b[0m \u001b[0;34m=\u001b[0m \u001b[0mself\u001b[0m\u001b[0;34m.\u001b[0m\u001b[0mexperimental_get_tracing_count\u001b[0m\u001b[0;34m(\u001b[0m\u001b[0;34m)\u001b[0m\u001b[0;34m\u001b[0m\u001b[0;34m\u001b[0m\u001b[0m\n\u001b[1;32m    827\u001b[0m     \u001b[0;32mwith\u001b[0m \u001b[0mtrace\u001b[0m\u001b[0;34m.\u001b[0m\u001b[0mTrace\u001b[0m\u001b[0;34m(\u001b[0m\u001b[0mself\u001b[0m\u001b[0;34m.\u001b[0m\u001b[0m_name\u001b[0m\u001b[0;34m)\u001b[0m \u001b[0;32mas\u001b[0m \u001b[0mtm\u001b[0m\u001b[0;34m:\u001b[0m\u001b[0;34m\u001b[0m\u001b[0;34m\u001b[0m\u001b[0m\n\u001b[0;32m--> 828\u001b[0;31m       \u001b[0mresult\u001b[0m \u001b[0;34m=\u001b[0m \u001b[0mself\u001b[0m\u001b[0;34m.\u001b[0m\u001b[0m_call\u001b[0m\u001b[0;34m(\u001b[0m\u001b[0;34m*\u001b[0m\u001b[0margs\u001b[0m\u001b[0;34m,\u001b[0m \u001b[0;34m**\u001b[0m\u001b[0mkwds\u001b[0m\u001b[0;34m)\u001b[0m\u001b[0;34m\u001b[0m\u001b[0;34m\u001b[0m\u001b[0m\n\u001b[0m\u001b[1;32m    829\u001b[0m       \u001b[0mcompiler\u001b[0m \u001b[0;34m=\u001b[0m \u001b[0;34m\"xla\"\u001b[0m \u001b[0;32mif\u001b[0m \u001b[0mself\u001b[0m\u001b[0;34m.\u001b[0m\u001b[0m_experimental_compile\u001b[0m \u001b[0;32melse\u001b[0m \u001b[0;34m\"nonXla\"\u001b[0m\u001b[0;34m\u001b[0m\u001b[0;34m\u001b[0m\u001b[0m\n\u001b[1;32m    830\u001b[0m       \u001b[0mnew_tracing_count\u001b[0m \u001b[0;34m=\u001b[0m \u001b[0mself\u001b[0m\u001b[0;34m.\u001b[0m\u001b[0mexperimental_get_tracing_count\u001b[0m\u001b[0;34m(\u001b[0m\u001b[0;34m)\u001b[0m\u001b[0;34m\u001b[0m\u001b[0;34m\u001b[0m\u001b[0m\n",
      "\u001b[0;32m/usr/local/lib/python3.6/dist-packages/tensorflow/python/eager/def_function.py\u001b[0m in \u001b[0;36m_call\u001b[0;34m(self, *args, **kwds)\u001b[0m\n\u001b[1;32m    853\u001b[0m       \u001b[0;31m# In this case we have created variables on the first call, so we run the\u001b[0m\u001b[0;34m\u001b[0m\u001b[0;34m\u001b[0m\u001b[0;34m\u001b[0m\u001b[0m\n\u001b[1;32m    854\u001b[0m       \u001b[0;31m# defunned version which is guaranteed to never create variables.\u001b[0m\u001b[0;34m\u001b[0m\u001b[0;34m\u001b[0m\u001b[0;34m\u001b[0m\u001b[0m\n\u001b[0;32m--> 855\u001b[0;31m       \u001b[0;32mreturn\u001b[0m \u001b[0mself\u001b[0m\u001b[0;34m.\u001b[0m\u001b[0m_stateless_fn\u001b[0m\u001b[0;34m(\u001b[0m\u001b[0;34m*\u001b[0m\u001b[0margs\u001b[0m\u001b[0;34m,\u001b[0m \u001b[0;34m**\u001b[0m\u001b[0mkwds\u001b[0m\u001b[0;34m)\u001b[0m  \u001b[0;31m# pylint: disable=not-callable\u001b[0m\u001b[0;34m\u001b[0m\u001b[0;34m\u001b[0m\u001b[0m\n\u001b[0m\u001b[1;32m    856\u001b[0m     \u001b[0;32melif\u001b[0m \u001b[0mself\u001b[0m\u001b[0;34m.\u001b[0m\u001b[0m_stateful_fn\u001b[0m \u001b[0;32mis\u001b[0m \u001b[0;32mnot\u001b[0m \u001b[0;32mNone\u001b[0m\u001b[0;34m:\u001b[0m\u001b[0;34m\u001b[0m\u001b[0;34m\u001b[0m\u001b[0m\n\u001b[1;32m    857\u001b[0m       \u001b[0;31m# Release the lock early so that multiple threads can perform the call\u001b[0m\u001b[0;34m\u001b[0m\u001b[0;34m\u001b[0m\u001b[0;34m\u001b[0m\u001b[0m\n",
      "\u001b[0;32m/usr/local/lib/python3.6/dist-packages/tensorflow/python/eager/function.py\u001b[0m in \u001b[0;36m__call__\u001b[0;34m(self, *args, **kwargs)\u001b[0m\n\u001b[1;32m   2941\u001b[0m        filtered_flat_args) = self._maybe_define_function(args, kwargs)\n\u001b[1;32m   2942\u001b[0m     return graph_function._call_flat(\n\u001b[0;32m-> 2943\u001b[0;31m         filtered_flat_args, captured_inputs=graph_function.captured_inputs)  # pylint: disable=protected-access\n\u001b[0m\u001b[1;32m   2944\u001b[0m \u001b[0;34m\u001b[0m\u001b[0m\n\u001b[1;32m   2945\u001b[0m   \u001b[0;34m@\u001b[0m\u001b[0mproperty\u001b[0m\u001b[0;34m\u001b[0m\u001b[0;34m\u001b[0m\u001b[0m\n",
      "\u001b[0;32m/usr/local/lib/python3.6/dist-packages/tensorflow/python/eager/function.py\u001b[0m in \u001b[0;36m_call_flat\u001b[0;34m(self, args, captured_inputs, cancellation_manager)\u001b[0m\n\u001b[1;32m   1917\u001b[0m       \u001b[0;31m# No tape is watching; skip to running the function.\u001b[0m\u001b[0;34m\u001b[0m\u001b[0;34m\u001b[0m\u001b[0;34m\u001b[0m\u001b[0m\n\u001b[1;32m   1918\u001b[0m       return self._build_call_outputs(self._inference_function.call(\n\u001b[0;32m-> 1919\u001b[0;31m           ctx, args, cancellation_manager=cancellation_manager))\n\u001b[0m\u001b[1;32m   1920\u001b[0m     forward_backward = self._select_forward_and_backward_functions(\n\u001b[1;32m   1921\u001b[0m         \u001b[0margs\u001b[0m\u001b[0;34m,\u001b[0m\u001b[0;34m\u001b[0m\u001b[0;34m\u001b[0m\u001b[0m\n",
      "\u001b[0;32m/usr/local/lib/python3.6/dist-packages/tensorflow/python/eager/function.py\u001b[0m in \u001b[0;36mcall\u001b[0;34m(self, ctx, args, cancellation_manager)\u001b[0m\n\u001b[1;32m    558\u001b[0m               \u001b[0minputs\u001b[0m\u001b[0;34m=\u001b[0m\u001b[0margs\u001b[0m\u001b[0;34m,\u001b[0m\u001b[0;34m\u001b[0m\u001b[0;34m\u001b[0m\u001b[0m\n\u001b[1;32m    559\u001b[0m               \u001b[0mattrs\u001b[0m\u001b[0;34m=\u001b[0m\u001b[0mattrs\u001b[0m\u001b[0;34m,\u001b[0m\u001b[0;34m\u001b[0m\u001b[0;34m\u001b[0m\u001b[0m\n\u001b[0;32m--> 560\u001b[0;31m               ctx=ctx)\n\u001b[0m\u001b[1;32m    561\u001b[0m         \u001b[0;32melse\u001b[0m\u001b[0;34m:\u001b[0m\u001b[0;34m\u001b[0m\u001b[0;34m\u001b[0m\u001b[0m\n\u001b[1;32m    562\u001b[0m           outputs = execute.execute_with_cancellation(\n",
      "\u001b[0;32m/usr/local/lib/python3.6/dist-packages/tensorflow/python/eager/execute.py\u001b[0m in \u001b[0;36mquick_execute\u001b[0;34m(op_name, num_outputs, inputs, attrs, ctx, name)\u001b[0m\n\u001b[1;32m     58\u001b[0m     \u001b[0mctx\u001b[0m\u001b[0;34m.\u001b[0m\u001b[0mensure_initialized\u001b[0m\u001b[0;34m(\u001b[0m\u001b[0;34m)\u001b[0m\u001b[0;34m\u001b[0m\u001b[0;34m\u001b[0m\u001b[0m\n\u001b[1;32m     59\u001b[0m     tensors = pywrap_tfe.TFE_Py_Execute(ctx._handle, device_name, op_name,\n\u001b[0;32m---> 60\u001b[0;31m                                         inputs, attrs, num_outputs)\n\u001b[0m\u001b[1;32m     61\u001b[0m   \u001b[0;32mexcept\u001b[0m \u001b[0mcore\u001b[0m\u001b[0;34m.\u001b[0m\u001b[0m_NotOkStatusException\u001b[0m \u001b[0;32mas\u001b[0m \u001b[0me\u001b[0m\u001b[0;34m:\u001b[0m\u001b[0;34m\u001b[0m\u001b[0;34m\u001b[0m\u001b[0m\n\u001b[1;32m     62\u001b[0m     \u001b[0;32mif\u001b[0m \u001b[0mname\u001b[0m \u001b[0;32mis\u001b[0m \u001b[0;32mnot\u001b[0m \u001b[0;32mNone\u001b[0m\u001b[0;34m:\u001b[0m\u001b[0;34m\u001b[0m\u001b[0;34m\u001b[0m\u001b[0m\n",
      "\u001b[0;31mKeyboardInterrupt\u001b[0m: "
     ]
    }
   ],
   "source": [
    "model = KerasClassifier(build_fn=create_model,\n",
    "                            epochs=4, batch_size=16,\n",
    "                            verbose=True)\n",
    "grid = RandomizedSearchCV(estimator=model, param_distributions=param_grid,\n",
    "                           cv=4, verbose=1, n_iter=8)\n",
    "grid_result = grid.fit(X_train, Y_Train)\n",
    "#  # Evaluate testing set\n",
    "test_accuracy = grid.score(X_test, Y_test)"
   ]
  },
  {
   "cell_type": "code",
   "execution_count": null,
   "metadata": {
    "executionInfo": {
     "elapsed": 431337,
     "status": "aborted",
     "timestamp": 1609055362097,
     "user": {
      "displayName": "خالد خطابي",
      "photoUrl": "",
      "userId": "09736998259587649509"
     },
     "user_tz": -120
    },
    "id": "6CeBUAGaHTbF"
   },
   "outputs": [],
   "source": []
  },
  {
   "cell_type": "code",
   "execution_count": null,
   "metadata": {
    "executionInfo": {
     "elapsed": 431339,
     "status": "aborted",
     "timestamp": 1609055362107,
     "user": {
      "displayName": "خالد خطابي",
      "photoUrl": "",
      "userId": "09736998259587649509"
     },
     "user_tz": -120
    },
    "id": "F1daWoqfHTbF"
   },
   "outputs": [],
   "source": []
  }
 ],
 "metadata": {
  "accelerator": "GPU",
  "colab": {
   "name": "hadi.ipynb",
   "provenance": []
  },
  "kernelspec": {
   "display_name": "Python 3",
   "language": "python",
   "name": "python3"
  },
  "language_info": {
   "codemirror_mode": {
    "name": "ipython",
    "version": 3
   },
   "file_extension": ".py",
   "mimetype": "text/x-python",
   "name": "python",
   "nbconvert_exporter": "python",
   "pygments_lexer": "ipython3",
   "version": "3.7.10"
  }
 },
 "nbformat": 4,
 "nbformat_minor": 1
}
